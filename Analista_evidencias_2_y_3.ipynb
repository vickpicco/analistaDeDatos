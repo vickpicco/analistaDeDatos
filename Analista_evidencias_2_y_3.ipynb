{
  "nbformat": 4,
  "nbformat_minor": 0,
  "metadata": {
    "colab": {
      "provenance": [],
      "include_colab_link": true
    },
    "kernelspec": {
      "name": "python3",
      "display_name": "Python 3"
    },
    "language_info": {
      "name": "python"
    }
  },
  "cells": [
    {
      "cell_type": "markdown",
      "metadata": {
        "id": "view-in-github",
        "colab_type": "text"
      },
      "source": [
        "<a href=\"https://colab.research.google.com/github/vickpicco/analistaDeDatos/blob/main/Analista_evidencias_2_y_3.ipynb\" target=\"_parent\"><img src=\"https://colab.research.google.com/assets/colab-badge.svg\" alt=\"Open In Colab\"/></a>"
      ]
    },
    {
      "cell_type": "code",
      "execution_count": null,
      "metadata": {
        "id": "pJBSyem12ui8"
      },
      "outputs": [],
      "source": []
    },
    {
      "cell_type": "markdown",
      "source": [
        "# Descripción del Proyecto\n",
        "\n",
        "Análisis del grado de satisfacción de los usuarios en el funcionamiento de un gestor de reclamos internos: Evaluación basada en métricas de percepción y desempeño durante un período.\n",
        "\n",
        "Este proyecto busca establecer un modelo de evaluación del grado de satisfacción de los usuarios en el funcionamiento de un gestor de reclamos internos, con el fin de optimizar su desempeño y mejorar la experiencia de los empleados. A través del análisis de datos, se pretende obtener insights que permitan identificar oportunidades de mejora y garantizar una gestión eficiente y transparente de los reclamos dentro de la organización.\n",
        "\n",
        "## Objetivo principal:\n",
        "\n",
        "Analizar el grado de satisfacción de los usuarios respecto al funcionamiento del gestor de reclamos internos, mediante la recopilación y procesamiento de datos relevantes, con el propósito de detectar oportunidades de mejora y contribuir a la optimización de la gestión organizacional en un periodo específico.\n",
        "\n",
        "##Objetivo Específicos:\n",
        "\n",
        "\n",
        "1.   Recolectar datos sobre la percepción y satisfacción de los usuarios del gestor de reclamos internos mediante encuestas de satisfacción.\n",
        "\n",
        "2.   Procesar la información obtenida aplicando técnicas de análisis estadístico y exploración de datos para identificar patrones y tendencias.\n",
        "\n",
        "3.   Identificar áreas de mejora en el funcionamiento del sistema, considerando los puntos críticos señalados por los usuarios.\n",
        "\n",
        "4.   Proponer estrategias de optimización basadas en los hallazgos del análisis para mejorar la eficiencia del gestor de reclamos internos.\n",
        "\n",
        "5.   Comunicar los resultados y recomendaciones a la empresa de manera clara y fundamentada para su posible implementación.\n",
        "\n",
        "## Integrantes del Equipo de Trabajo:\n",
        "\n",
        "\n",
        "\n",
        "*   Cabrera, Gabriel (GitHub: cjuangab)\n",
        "\n",
        "*   Pereyra, Hebe. (GitHub: PereyraHebe)\n",
        "\n",
        "*   Picco, Victoria. (GitHub: vickpicco)\n",
        "\n",
        "*   Santarena, Florencia. (GitHub: mfsantarena)\n",
        "\n",
        "*   Suárez, Mariela. (GitHub: MarielarosaSZ)\n",
        "\n"
      ],
      "metadata": {
        "id": "2yX2jivAbkEU"
      }
    },
    {
      "cell_type": "markdown",
      "source": [
        "#EVIDENCIA N°2\n"
      ],
      "metadata": {
        "id": "yH48vNk7GLjS"
      }
    },
    {
      "cell_type": "markdown",
      "source": [
        "#####Creado el notebook, importamos los datos"
      ],
      "metadata": {
        "id": "Sq1MqmZ5GUXO"
      }
    },
    {
      "cell_type": "code",
      "source": [
        "import pandas as pd\n",
        "url = \"https://raw.githubusercontent.com/vickpicco/analistaDeDatos/refs/heads/main/Datos/dataset_reclamos_internos_modificado.csv\"\n",
        "df = pd.read_csv(url)\n",
        "df.head(10)\n"
      ],
      "metadata": {
        "colab": {
          "base_uri": "https://localhost:8080/",
          "height": 433
        },
        "id": "HQkA_rvBPyRE",
        "outputId": "7bfa46d6-bb81-40ef-9ebe-cae39f0f4fb9"
      },
      "execution_count": null,
      "outputs": [
        {
          "output_type": "execute_result",
          "data": {
            "text/plain": [
              "  Destino del reclamo Quién lo resolvió                Tipo de reclamo  \\\n",
              "0     INFRAESTRUCTURA               NaN      Actualización de software   \n",
              "1     soporte técnico               NaN           problema de acceso     \n",
              "2    Recursos humanos  Administrador TI          Solicitud de equipo     \n",
              "3     Infraestructura      Juan Pérez               Problema de acceso   \n",
              "4     S0p0rte técnic0         help desk    Actualización de software     \n",
              "5     Soporte técnico        juan pérez            Solicitud de equipo   \n",
              "6     Infraestructura  Administrador TI               ERROR DE SISTEMA   \n",
              "7    Recurs0s human0s   SOPORTE NIVEL 1                            NaN   \n",
              "8     Soporte técnico         Help Desk               Error de sistema   \n",
              "9                 NaN  ADMINISTRADOR TI               Consulta general   \n",
              "\n",
              "  Fecha del reclamo Estado del reclamo  Grado de satisfacción  \n",
              "0               NaN          Cerrado                        3  \n",
              "1               NaN          Pendiente                      0  \n",
              "2        2024-01-03           resuelto                      2  \n",
              "3        2024-01-04         EN PROCESO                      0  \n",
              "4        2024-01-05           RESUELTO                      5  \n",
              "5        2024/01/06                NaN                      0  \n",
              "6        2024-01-07          PENDIENTE                      0  \n",
              "7        2024-01-08         RESUELTO                        5  \n",
              "8        2024-01-09          Pendiente                      0  \n",
              "9        2024-01-10          Pendiente                      0  "
            ],
            "text/html": [
              "\n",
              "  <div id=\"df-592e00dc-4e5e-4c73-8aa0-ba49ec3a7e8c\" class=\"colab-df-container\">\n",
              "    <div>\n",
              "<style scoped>\n",
              "    .dataframe tbody tr th:only-of-type {\n",
              "        vertical-align: middle;\n",
              "    }\n",
              "\n",
              "    .dataframe tbody tr th {\n",
              "        vertical-align: top;\n",
              "    }\n",
              "\n",
              "    .dataframe thead th {\n",
              "        text-align: right;\n",
              "    }\n",
              "</style>\n",
              "<table border=\"1\" class=\"dataframe\">\n",
              "  <thead>\n",
              "    <tr style=\"text-align: right;\">\n",
              "      <th></th>\n",
              "      <th>Destino del reclamo</th>\n",
              "      <th>Quién lo resolvió</th>\n",
              "      <th>Tipo de reclamo</th>\n",
              "      <th>Fecha del reclamo</th>\n",
              "      <th>Estado del reclamo</th>\n",
              "      <th>Grado de satisfacción</th>\n",
              "    </tr>\n",
              "  </thead>\n",
              "  <tbody>\n",
              "    <tr>\n",
              "      <th>0</th>\n",
              "      <td>INFRAESTRUCTURA</td>\n",
              "      <td>NaN</td>\n",
              "      <td>Actualización de software</td>\n",
              "      <td>NaN</td>\n",
              "      <td>Cerrado</td>\n",
              "      <td>3</td>\n",
              "    </tr>\n",
              "    <tr>\n",
              "      <th>1</th>\n",
              "      <td>soporte técnico</td>\n",
              "      <td>NaN</td>\n",
              "      <td>problema de acceso</td>\n",
              "      <td>NaN</td>\n",
              "      <td>Pendiente</td>\n",
              "      <td>0</td>\n",
              "    </tr>\n",
              "    <tr>\n",
              "      <th>2</th>\n",
              "      <td>Recursos humanos</td>\n",
              "      <td>Administrador TI</td>\n",
              "      <td>Solicitud de equipo</td>\n",
              "      <td>2024-01-03</td>\n",
              "      <td>resuelto</td>\n",
              "      <td>2</td>\n",
              "    </tr>\n",
              "    <tr>\n",
              "      <th>3</th>\n",
              "      <td>Infraestructura</td>\n",
              "      <td>Juan Pérez</td>\n",
              "      <td>Problema de acceso</td>\n",
              "      <td>2024-01-04</td>\n",
              "      <td>EN PROCESO</td>\n",
              "      <td>0</td>\n",
              "    </tr>\n",
              "    <tr>\n",
              "      <th>4</th>\n",
              "      <td>S0p0rte técnic0</td>\n",
              "      <td>help desk</td>\n",
              "      <td>Actualización de software</td>\n",
              "      <td>2024-01-05</td>\n",
              "      <td>RESUELTO</td>\n",
              "      <td>5</td>\n",
              "    </tr>\n",
              "    <tr>\n",
              "      <th>5</th>\n",
              "      <td>Soporte técnico</td>\n",
              "      <td>juan pérez</td>\n",
              "      <td>Solicitud de equipo</td>\n",
              "      <td>2024/01/06</td>\n",
              "      <td>NaN</td>\n",
              "      <td>0</td>\n",
              "    </tr>\n",
              "    <tr>\n",
              "      <th>6</th>\n",
              "      <td>Infraestructura</td>\n",
              "      <td>Administrador TI</td>\n",
              "      <td>ERROR DE SISTEMA</td>\n",
              "      <td>2024-01-07</td>\n",
              "      <td>PENDIENTE</td>\n",
              "      <td>0</td>\n",
              "    </tr>\n",
              "    <tr>\n",
              "      <th>7</th>\n",
              "      <td>Recurs0s human0s</td>\n",
              "      <td>SOPORTE NIVEL 1</td>\n",
              "      <td>NaN</td>\n",
              "      <td>2024-01-08</td>\n",
              "      <td>RESUELTO</td>\n",
              "      <td>5</td>\n",
              "    </tr>\n",
              "    <tr>\n",
              "      <th>8</th>\n",
              "      <td>Soporte técnico</td>\n",
              "      <td>Help Desk</td>\n",
              "      <td>Error de sistema</td>\n",
              "      <td>2024-01-09</td>\n",
              "      <td>Pendiente</td>\n",
              "      <td>0</td>\n",
              "    </tr>\n",
              "    <tr>\n",
              "      <th>9</th>\n",
              "      <td>NaN</td>\n",
              "      <td>ADMINISTRADOR TI</td>\n",
              "      <td>Consulta general</td>\n",
              "      <td>2024-01-10</td>\n",
              "      <td>Pendiente</td>\n",
              "      <td>0</td>\n",
              "    </tr>\n",
              "  </tbody>\n",
              "</table>\n",
              "</div>\n",
              "    <div class=\"colab-df-buttons\">\n",
              "\n",
              "  <div class=\"colab-df-container\">\n",
              "    <button class=\"colab-df-convert\" onclick=\"convertToInteractive('df-592e00dc-4e5e-4c73-8aa0-ba49ec3a7e8c')\"\n",
              "            title=\"Convert this dataframe to an interactive table.\"\n",
              "            style=\"display:none;\">\n",
              "\n",
              "  <svg xmlns=\"http://www.w3.org/2000/svg\" height=\"24px\" viewBox=\"0 -960 960 960\">\n",
              "    <path d=\"M120-120v-720h720v720H120Zm60-500h600v-160H180v160Zm220 220h160v-160H400v160Zm0 220h160v-160H400v160ZM180-400h160v-160H180v160Zm440 0h160v-160H620v160ZM180-180h160v-160H180v160Zm440 0h160v-160H620v160Z\"/>\n",
              "  </svg>\n",
              "    </button>\n",
              "\n",
              "  <style>\n",
              "    .colab-df-container {\n",
              "      display:flex;\n",
              "      gap: 12px;\n",
              "    }\n",
              "\n",
              "    .colab-df-convert {\n",
              "      background-color: #E8F0FE;\n",
              "      border: none;\n",
              "      border-radius: 50%;\n",
              "      cursor: pointer;\n",
              "      display: none;\n",
              "      fill: #1967D2;\n",
              "      height: 32px;\n",
              "      padding: 0 0 0 0;\n",
              "      width: 32px;\n",
              "    }\n",
              "\n",
              "    .colab-df-convert:hover {\n",
              "      background-color: #E2EBFA;\n",
              "      box-shadow: 0px 1px 2px rgba(60, 64, 67, 0.3), 0px 1px 3px 1px rgba(60, 64, 67, 0.15);\n",
              "      fill: #174EA6;\n",
              "    }\n",
              "\n",
              "    .colab-df-buttons div {\n",
              "      margin-bottom: 4px;\n",
              "    }\n",
              "\n",
              "    [theme=dark] .colab-df-convert {\n",
              "      background-color: #3B4455;\n",
              "      fill: #D2E3FC;\n",
              "    }\n",
              "\n",
              "    [theme=dark] .colab-df-convert:hover {\n",
              "      background-color: #434B5C;\n",
              "      box-shadow: 0px 1px 3px 1px rgba(0, 0, 0, 0.15);\n",
              "      filter: drop-shadow(0px 1px 2px rgba(0, 0, 0, 0.3));\n",
              "      fill: #FFFFFF;\n",
              "    }\n",
              "  </style>\n",
              "\n",
              "    <script>\n",
              "      const buttonEl =\n",
              "        document.querySelector('#df-592e00dc-4e5e-4c73-8aa0-ba49ec3a7e8c button.colab-df-convert');\n",
              "      buttonEl.style.display =\n",
              "        google.colab.kernel.accessAllowed ? 'block' : 'none';\n",
              "\n",
              "      async function convertToInteractive(key) {\n",
              "        const element = document.querySelector('#df-592e00dc-4e5e-4c73-8aa0-ba49ec3a7e8c');\n",
              "        const dataTable =\n",
              "          await google.colab.kernel.invokeFunction('convertToInteractive',\n",
              "                                                    [key], {});\n",
              "        if (!dataTable) return;\n",
              "\n",
              "        const docLinkHtml = 'Like what you see? Visit the ' +\n",
              "          '<a target=\"_blank\" href=https://colab.research.google.com/notebooks/data_table.ipynb>data table notebook</a>'\n",
              "          + ' to learn more about interactive tables.';\n",
              "        element.innerHTML = '';\n",
              "        dataTable['output_type'] = 'display_data';\n",
              "        await google.colab.output.renderOutput(dataTable, element);\n",
              "        const docLink = document.createElement('div');\n",
              "        docLink.innerHTML = docLinkHtml;\n",
              "        element.appendChild(docLink);\n",
              "      }\n",
              "    </script>\n",
              "  </div>\n",
              "\n",
              "\n",
              "    <div id=\"df-4dd2d7e2-3296-422d-be35-64538fb8816a\">\n",
              "      <button class=\"colab-df-quickchart\" onclick=\"quickchart('df-4dd2d7e2-3296-422d-be35-64538fb8816a')\"\n",
              "                title=\"Suggest charts\"\n",
              "                style=\"display:none;\">\n",
              "\n",
              "<svg xmlns=\"http://www.w3.org/2000/svg\" height=\"24px\"viewBox=\"0 0 24 24\"\n",
              "     width=\"24px\">\n",
              "    <g>\n",
              "        <path d=\"M19 3H5c-1.1 0-2 .9-2 2v14c0 1.1.9 2 2 2h14c1.1 0 2-.9 2-2V5c0-1.1-.9-2-2-2zM9 17H7v-7h2v7zm4 0h-2V7h2v10zm4 0h-2v-4h2v4z\"/>\n",
              "    </g>\n",
              "</svg>\n",
              "      </button>\n",
              "\n",
              "<style>\n",
              "  .colab-df-quickchart {\n",
              "      --bg-color: #E8F0FE;\n",
              "      --fill-color: #1967D2;\n",
              "      --hover-bg-color: #E2EBFA;\n",
              "      --hover-fill-color: #174EA6;\n",
              "      --disabled-fill-color: #AAA;\n",
              "      --disabled-bg-color: #DDD;\n",
              "  }\n",
              "\n",
              "  [theme=dark] .colab-df-quickchart {\n",
              "      --bg-color: #3B4455;\n",
              "      --fill-color: #D2E3FC;\n",
              "      --hover-bg-color: #434B5C;\n",
              "      --hover-fill-color: #FFFFFF;\n",
              "      --disabled-bg-color: #3B4455;\n",
              "      --disabled-fill-color: #666;\n",
              "  }\n",
              "\n",
              "  .colab-df-quickchart {\n",
              "    background-color: var(--bg-color);\n",
              "    border: none;\n",
              "    border-radius: 50%;\n",
              "    cursor: pointer;\n",
              "    display: none;\n",
              "    fill: var(--fill-color);\n",
              "    height: 32px;\n",
              "    padding: 0;\n",
              "    width: 32px;\n",
              "  }\n",
              "\n",
              "  .colab-df-quickchart:hover {\n",
              "    background-color: var(--hover-bg-color);\n",
              "    box-shadow: 0 1px 2px rgba(60, 64, 67, 0.3), 0 1px 3px 1px rgba(60, 64, 67, 0.15);\n",
              "    fill: var(--button-hover-fill-color);\n",
              "  }\n",
              "\n",
              "  .colab-df-quickchart-complete:disabled,\n",
              "  .colab-df-quickchart-complete:disabled:hover {\n",
              "    background-color: var(--disabled-bg-color);\n",
              "    fill: var(--disabled-fill-color);\n",
              "    box-shadow: none;\n",
              "  }\n",
              "\n",
              "  .colab-df-spinner {\n",
              "    border: 2px solid var(--fill-color);\n",
              "    border-color: transparent;\n",
              "    border-bottom-color: var(--fill-color);\n",
              "    animation:\n",
              "      spin 1s steps(1) infinite;\n",
              "  }\n",
              "\n",
              "  @keyframes spin {\n",
              "    0% {\n",
              "      border-color: transparent;\n",
              "      border-bottom-color: var(--fill-color);\n",
              "      border-left-color: var(--fill-color);\n",
              "    }\n",
              "    20% {\n",
              "      border-color: transparent;\n",
              "      border-left-color: var(--fill-color);\n",
              "      border-top-color: var(--fill-color);\n",
              "    }\n",
              "    30% {\n",
              "      border-color: transparent;\n",
              "      border-left-color: var(--fill-color);\n",
              "      border-top-color: var(--fill-color);\n",
              "      border-right-color: var(--fill-color);\n",
              "    }\n",
              "    40% {\n",
              "      border-color: transparent;\n",
              "      border-right-color: var(--fill-color);\n",
              "      border-top-color: var(--fill-color);\n",
              "    }\n",
              "    60% {\n",
              "      border-color: transparent;\n",
              "      border-right-color: var(--fill-color);\n",
              "    }\n",
              "    80% {\n",
              "      border-color: transparent;\n",
              "      border-right-color: var(--fill-color);\n",
              "      border-bottom-color: var(--fill-color);\n",
              "    }\n",
              "    90% {\n",
              "      border-color: transparent;\n",
              "      border-bottom-color: var(--fill-color);\n",
              "    }\n",
              "  }\n",
              "</style>\n",
              "\n",
              "      <script>\n",
              "        async function quickchart(key) {\n",
              "          const quickchartButtonEl =\n",
              "            document.querySelector('#' + key + ' button');\n",
              "          quickchartButtonEl.disabled = true;  // To prevent multiple clicks.\n",
              "          quickchartButtonEl.classList.add('colab-df-spinner');\n",
              "          try {\n",
              "            const charts = await google.colab.kernel.invokeFunction(\n",
              "                'suggestCharts', [key], {});\n",
              "          } catch (error) {\n",
              "            console.error('Error during call to suggestCharts:', error);\n",
              "          }\n",
              "          quickchartButtonEl.classList.remove('colab-df-spinner');\n",
              "          quickchartButtonEl.classList.add('colab-df-quickchart-complete');\n",
              "        }\n",
              "        (() => {\n",
              "          let quickchartButtonEl =\n",
              "            document.querySelector('#df-4dd2d7e2-3296-422d-be35-64538fb8816a button');\n",
              "          quickchartButtonEl.style.display =\n",
              "            google.colab.kernel.accessAllowed ? 'block' : 'none';\n",
              "        })();\n",
              "      </script>\n",
              "    </div>\n",
              "\n",
              "    </div>\n",
              "  </div>\n"
            ],
            "application/vnd.google.colaboratory.intrinsic+json": {
              "type": "dataframe",
              "variable_name": "df",
              "summary": "{\n  \"name\": \"df\",\n  \"rows\": 400,\n  \"fields\": [\n    {\n      \"column\": \"Destino del reclamo\",\n      \"properties\": {\n        \"dtype\": \"category\",\n        \"num_unique_values\": 34,\n        \"samples\": [\n          \"recursos humanos\",\n          \"sistemas\",\n          \"  recursos humanos  \"\n        ],\n        \"semantic_type\": \"\",\n        \"description\": \"\"\n      }\n    },\n    {\n      \"column\": \"Qui\\u00e9n lo resolvi\\u00f3\",\n      \"properties\": {\n        \"dtype\": \"category\",\n        \"num_unique_values\": 36,\n        \"samples\": [\n          \"s0p0rte nivel 1\",\n          \"  S0p0rte Nivel 1  \",\n          \"  soporte nivel 1  \"\n        ],\n        \"semantic_type\": \"\",\n        \"description\": \"\"\n      }\n    },\n    {\n      \"column\": \"Tipo de reclamo\",\n      \"properties\": {\n        \"dtype\": \"category\",\n        \"num_unique_values\": 39,\n        \"samples\": [\n          \"  PROBLEMA DE ACCESO  \",\n          \"  solicitud de equipo  \",\n          \"  Actualizaci\\u00f3n de software  \"\n        ],\n        \"semantic_type\": \"\",\n        \"description\": \"\"\n      }\n    },\n    {\n      \"column\": \"Fecha del reclamo\",\n      \"properties\": {\n        \"dtype\": \"string\",\n        \"num_unique_values\": 380,\n        \"samples\": [\n          \"2024-10-07\",\n          \"2024-10-01\",\n          \"2024-10-06\"\n        ],\n        \"semantic_type\": \"\",\n        \"description\": \"\"\n      }\n    },\n    {\n      \"column\": \"Estado del reclamo\",\n      \"properties\": {\n        \"dtype\": \"category\",\n        \"num_unique_values\": 31,\n        \"samples\": [\n          \"  resuelto  \",\n          \"  pendiente  \",\n          \"  cerrado  \"\n        ],\n        \"semantic_type\": \"\",\n        \"description\": \"\"\n      }\n    },\n    {\n      \"column\": \"Grado de satisfacci\\u00f3n\",\n      \"properties\": {\n        \"dtype\": \"number\",\n        \"std\": 1,\n        \"min\": 0,\n        \"max\": 5,\n        \"num_unique_values\": 6,\n        \"samples\": [\n          3,\n          0,\n          4\n        ],\n        \"semantic_type\": \"\",\n        \"description\": \"\"\n      }\n    }\n  ]\n}"
            }
          },
          "metadata": {},
          "execution_count": 1
        }
      ]
    },
    {
      "cell_type": "code",
      "source": [
        "#Realizamos un pequeño filtrado de los valores igual a \"0\" porque esos valores son de trabajos no realizados o no terminados\n",
        "# y no son valores que realmente nos interese analizar\n",
        "satisfaccion_valida = df['Grado de satisfacción'][(df['Grado de satisfacción'] >= 1) & (df['Grado de satisfacción'] <= 5)]\n",
        "\n",
        "# Del total de datos, nos quedamos con los validos y su numeracion\n",
        "total = len(df['Grado de satisfacción'])\n",
        "validos = satisfaccion_valida.count()\n",
        "nulos = df['Grado de satisfacción'].isnull().sum()\n",
        "\n",
        "# Realizamos las medidas de estadicas\n",
        "media = satisfaccion_valida.mean()\n",
        "mediana = satisfaccion_valida.median()\n",
        "desviacion = satisfaccion_valida.std()\n",
        "\n",
        "# Aca visualizamos los valores\n",
        "print(\"Columna: Grado de satisfacción\")\n",
        "print(f\"- Valores válidos (1 a 5): {validos} / {total}\")\n",
        "print(f\"- Valores ausentes: {nulos}\")\n",
        "print(f\"- Media: {media}\")\n",
        "print(f\"- Mediana: {mediana}\")\n",
        "print(f\"- Desviación estándar: {desviacion}\")"
      ],
      "metadata": {
        "colab": {
          "base_uri": "https://localhost:8080/"
        },
        "id": "FTUaPJQwkQAf",
        "outputId": "d3d4f92c-6b8f-434f-e8e3-11363d1e1ee1"
      },
      "execution_count": null,
      "outputs": [
        {
          "output_type": "stream",
          "name": "stdout",
          "text": [
            "Columna: Grado de satisfacción\n",
            "- Valores válidos (1 a 5): 173 / 400\n",
            "- Valores ausentes: 0\n",
            "- Media: 3.005780346820809\n",
            "- Mediana: 3.0\n",
            "- Desviación estándar: 1.5192451837067515\n"
          ]
        }
      ]
    },
    {
      "cell_type": "code",
      "source": [
        "def analizar_columna(col):\n",
        "    print(\"Columna:\", col)\n",
        "    print(\"Categorías únicas:\", df[col].nunique(dropna=False))\n",
        "    print(\"Cantidad por categoría:\")\n",
        "    print(df[col].value_counts(dropna=False))\n",
        "    print(\"Cantidad de nulos:\", df[col].isnull().sum())\n",
        "    print(\"-\" * 40)\n",
        "\n",
        "analizar_columna(\"Destino del reclamo\")\n",
        "analizar_columna(\"Quién lo resolvió\")\n",
        "analizar_columna(\"Tipo de reclamo\")\n",
        "analizar_columna(\"Estado del reclamo\")"
      ],
      "metadata": {
        "id": "eF5qFwyqxW9g",
        "outputId": "00a5bf2f-cbe4-4805-9fb2-0d720d31b4a4",
        "colab": {
          "base_uri": "https://localhost:8080/"
        }
      },
      "execution_count": null,
      "outputs": [
        {
          "output_type": "stream",
          "name": "stdout",
          "text": [
            "Columna: Destino del reclamo\n",
            "Categorías únicas: 35\n",
            "Cantidad por categoría:\n",
            "Destino del reclamo\n",
            "Sistemas                31\n",
            "Recursos humanos        29\n",
            "Soporte técnico         28\n",
            "RECURSOS HUMANOS        27\n",
            "Infraestructura         27\n",
            "SOPORTE TÉCNICO         25\n",
            "SISTEMAS                22\n",
            "Finanzas                21\n",
            "NaN                     20\n",
            "INFRAESTRUCTURA         15\n",
            "soporte técnico         13\n",
            "sistemas                13\n",
            "  Finanzas              12\n",
            "finanzas                12\n",
            "  Soporte técnico       12\n",
            "infraestructura         11\n",
            "FINANZAS                10\n",
            "  Sistemas               9\n",
            "recursos humanos         9\n",
            "  Recursos humanos       8\n",
            "  Infraestructura        7\n",
            "  INFRAESTRUCTURA        5\n",
            "  soporte técnico        4\n",
            "  finanzas               4\n",
            "  RECURSOS HUMANOS       4\n",
            "S0p0rte técnic0          4\n",
            "Recurs0s human0s         3\n",
            "s0p0rte técnic0          3\n",
            "  SOPORTE TÉCNICO        3\n",
            "  infraestructura        2\n",
            "  recursos humanos       2\n",
            "  SISTEMAS               2\n",
            "  s0p0rte técnic0        1\n",
            "  S0p0rte técnic0        1\n",
            "  sistemas               1\n",
            "Name: count, dtype: int64\n",
            "Cantidad de nulos: 20\n",
            "----------------------------------------\n",
            "Columna: Quién lo resolvió\n",
            "Categorías únicas: 37\n",
            "Cantidad por categoría:\n",
            "Quién lo resolvió\n",
            "Help Desk               36\n",
            "Juan Pérez              34\n",
            "JUAN PÉREZ              27\n",
            "Administrador TI        27\n",
            "Soporte Nivel 1         26\n",
            "María López             24\n",
            "NaN                     20\n",
            "HELP DESK               17\n",
            "MARÍA LÓPEZ             15\n",
            "soporte nivel 1         14\n",
            "SOPORTE NIVEL 1         14\n",
            "  Juan Pérez            12\n",
            "help desk               12\n",
            "juan pérez              12\n",
            "ADMINISTRADOR TI        12\n",
            "maría lópez             12\n",
            "administrador ti        11\n",
            "  Soporte Nivel 1       11\n",
            "  Help Desk              8\n",
            "  MARÍA LÓPEZ            7\n",
            "  María López            6\n",
            "  help desk              6\n",
            "  ADMINISTRADOR TI       5\n",
            "  Administrador TI       5\n",
            "  soporte nivel 1        4\n",
            "  SOPORTE NIVEL 1        4\n",
            "S0p0rte Nivel 1          4\n",
            "  maría lópez            3\n",
            "  administrador ti       3\n",
            "  HELP DESK              2\n",
            "  S0p0rte Nivel 1        1\n",
            "Administrad0r TI         1\n",
            "  Administrad0r TI       1\n",
            "administrad0r ti         1\n",
            "  administrad0r ti       1\n",
            "  juan pérez             1\n",
            "s0p0rte nivel 1          1\n",
            "Name: count, dtype: int64\n",
            "Cantidad de nulos: 20\n",
            "----------------------------------------\n",
            "Columna: Tipo de reclamo\n",
            "Categorías únicas: 40\n",
            "Cantidad por categoría:\n",
            "Tipo de reclamo\n",
            "Consulta general                 32\n",
            "Actualización de software        28\n",
            "Error de sistema                 25\n",
            "SOLICITUD DE EQUIPO              24\n",
            "CONSULTA GENERAL                 21\n",
            "Problema de acceso               21\n",
            "PROBLEMA DE ACCESO               21\n",
            "NaN                              20\n",
            "Solicitud de equipo              20\n",
            "ERROR DE SISTEMA                 18\n",
            "ACTUALIZACIÓN DE SOFTWARE        17\n",
            "problema de acceso               16\n",
            "actualización de software        12\n",
            "consulta general                 11\n",
            "  Problema de acceso             11\n",
            "error de sistema                 11\n",
            "  Consulta general                9\n",
            "solicitud de equipo               9\n",
            "  Solicitud de equipo             8\n",
            "  Actualización de software       8\n",
            "  ERROR DE SISTEMA                6\n",
            "  error de sistema                6\n",
            "Err0r de sistema                  6\n",
            "  SOLICITUD DE EQUIPO             5\n",
            "  Error de sistema                5\n",
            "  consulta general                4\n",
            "  PROBLEMA DE ACCESO              4\n",
            "  problema de acceso              3\n",
            "  ACTUALIZACIÓN DE SOFTWARE       3\n",
            "  CONSULTA GENERAL                3\n",
            "C0nsulta general                  3\n",
            "Actualización de s0ftware         2\n",
            "s0licitud de equip0               1\n",
            "  actualización de software       1\n",
            "Pr0blema de acces0                1\n",
            "  S0licitud de equip0             1\n",
            "  err0r de sistema                1\n",
            "  solicitud de equipo             1\n",
            "  C0nsulta general                1\n",
            "  actualización de s0ftware       1\n",
            "Name: count, dtype: int64\n",
            "Cantidad de nulos: 20\n",
            "----------------------------------------\n",
            "Columna: Estado del reclamo\n",
            "Categorías únicas: 32\n",
            "Cantidad por categoría:\n",
            "Estado del reclamo\n",
            "Pendiente         45\n",
            "Cerrado           38\n",
            "En proceso        35\n",
            "Resuelto          28\n",
            "EN PROCESO        27\n",
            "PENDIENTE         23\n",
            "RESUELTO          21\n",
            "NaN               20\n",
            "CERRADO           20\n",
            "resuelto          17\n",
            "  PENDIENTE       13\n",
            "  Cerrado         12\n",
            "  RESUELTO        12\n",
            "pendiente         12\n",
            "cerrado           11\n",
            "en proceso        10\n",
            "  En proceso       7\n",
            "En pr0ces0         6\n",
            "  CERRADO          5\n",
            "  Resuelto         5\n",
            "Resuelt0           5\n",
            "  Pendiente        5\n",
            "  pendiente        4\n",
            "  EN PROCESO       3\n",
            "en pr0ces0         3\n",
            "Cerrad0            3\n",
            "  cerrado          3\n",
            "  En pr0ces0       3\n",
            "  resuelto         1\n",
            "  cerrad0          1\n",
            "  en proceso       1\n",
            "  Cerrad0          1\n",
            "Name: count, dtype: int64\n",
            "Cantidad de nulos: 20\n",
            "----------------------------------------\n"
          ]
        }
      ]
    },
    {
      "cell_type": "markdown",
      "source": [
        " En la variable fecha se analiza cantidad de registros válidos sobre el total, ausentes y mal registrados.\n"
      ],
      "metadata": {
        "id": "_UA2v5PtneR9"
      }
    },
    {
      "cell_type": "code",
      "source": [
        "fecha_valida= df['Fecha del reclamo']\n",
        "validos_f=fecha_valida.count()\n",
        "nulos_f=df['Fecha del reclamo'].isnull().sum()\n",
        "total_f=len(df [\"Fecha del reclamo\"])\n",
        "fecha_convertida = pd.to_datetime(df['Fecha del reclamo'], errors='coerce')\n",
        "mal_registradas = fecha_convertida.isnull().sum() - nulos_f\n",
        "proporcion = (validos_f/total_f) * 100\n",
        "\n",
        "# Visualizamos los valores\n",
        "print(\"Columna: Fecha de Reclamo\")\n",
        "print(f\"- Valores de fecha válidos : {validos_f} / {total_f} = {proporcion}%\")\n",
        "print(f\"- Valores de fecha ausentes: {nulos_f}\")\n",
        "print(f\"- Valores de fecha Mal Registrados:  {mal_registradas}\")"
      ],
      "metadata": {
        "colab": {
          "base_uri": "https://localhost:8080/"
        },
        "id": "Dnj0CjIKncqW",
        "outputId": "88f0a76d-7605-448b-c3fe-345208e70022"
      },
      "execution_count": null,
      "outputs": [
        {
          "output_type": "stream",
          "name": "stdout",
          "text": [
            "Columna: Fecha de Reclamo\n",
            "- Valores de fecha válidos : 380 / 400 = 95.0%\n",
            "- Valores de fecha ausentes: 20\n",
            "- Valores de fecha Mal Registrados:  92\n"
          ]
        }
      ]
    },
    {
      "cell_type": "markdown",
      "source": [
        "Conclusiones iniciales\n",
        "\n",
        "- Se identificaron errores de tipeo y formatos inconsistentes en varias columnas.\n",
        "- Hay registros con fechas mal formateadas que deberán corregirse.\n",
        "- Existen valores faltantes y categorías mal escritas (mayúsculas/minúsculas mezcladas).\n",
        "\n",
        "Estas observaciones orientarán el proceso de limpieza que se realizará en próximas etapas."
      ],
      "metadata": {
        "id": "gmUC4H7-tcsJ"
      }
    },
    {
      "cell_type": "markdown",
      "source": [
        "# **EVIDENCIA N 3**"
      ],
      "metadata": {
        "id": "AmXXopn0vpg1"
      }
    },
    {
      "cell_type": "markdown",
      "source": [
        "En esta evidencia se agrega la columna Dias de resolucion, que contiene una variable cuantitativa, y representa los dias que demoro el reclamo en resolverse desde su generacion hasta llegar al estado cerrado.\n",
        "Para esta tarea, se utiliza la libreria Pandas y Numpy, solicitando la creacion de datos ramdom en un rango de 7 dias. Luego se ralizara la limpieza de los datos que no correspondan."
      ],
      "metadata": {
        "id": "e6yx0ax-v3Sh"
      }
    },
    {
      "cell_type": "code",
      "source": [
        "import pandas as pd\n",
        "import numpy as np\n",
        "\n",
        "# Se carga el archivo CSV existente en un DataFrame\n",
        "url = \"https://raw.githubusercontent.com/vickpicco/analistaDeDatos/refs/heads/main/Datos/dataset_reclamos_internos_modificado.csv\"\n",
        "df = pd.read_csv(url)\n",
        "\n",
        "# Se crea los datos para la nueva columna\n",
        "# Asegúrate de que el número de valores aleatorios coincida con el número de filas en tu DataFrame\n",
        "num_filas = len(df)\n",
        "dias_de_resolucion = np.random.randint(1, 8, size=num_filas) # Genera tantos números como filas\n",
        "\n",
        "#  Se agrega esta nueva columna al DataFrame existente\n",
        "df['Dias de resolucion'] = dias_de_resolucion\n",
        "\n",
        "#  Se guarda el DataFrame modificado en el mismo archivo CSV\n",
        "df.to_csv('dataset_reclamos_internos_modificado.csv', index=False)\n",
        "\n",
        "#  Se muestra las primeras filas para verificar\n",
        "print(df.head())"
      ],
      "metadata": {
        "id": "vB96lYe8y4zB",
        "colab": {
          "base_uri": "https://localhost:8080/"
        },
        "outputId": "c04a4522-e173-4b74-da2b-7b6492d4392b"
      },
      "execution_count": null,
      "outputs": [
        {
          "output_type": "stream",
          "name": "stdout",
          "text": [
            "  Destino del reclamo Quién lo resolvió                Tipo de reclamo  \\\n",
            "0     INFRAESTRUCTURA               NaN      Actualización de software   \n",
            "1     soporte técnico               NaN           problema de acceso     \n",
            "2    Recursos humanos  Administrador TI          Solicitud de equipo     \n",
            "3     Infraestructura      Juan Pérez               Problema de acceso   \n",
            "4     S0p0rte técnic0         help desk    Actualización de software     \n",
            "\n",
            "  Fecha del reclamo Estado del reclamo  Grado de satisfacción  \\\n",
            "0               NaN          Cerrado                        3   \n",
            "1               NaN          Pendiente                      0   \n",
            "2        2024-01-03           resuelto                      2   \n",
            "3        2024-01-04         EN PROCESO                      0   \n",
            "4        2024-01-05           RESUELTO                      5   \n",
            "\n",
            "   Dias de resolucion  \n",
            "0                   6  \n",
            "1                   7  \n",
            "2                   5  \n",
            "3                   2  \n",
            "4                   5  \n"
          ]
        }
      ]
    },
    {
      "cell_type": "code",
      "source": [],
      "metadata": {
        "id": "WCyedvGMyXR6"
      },
      "execution_count": null,
      "outputs": []
    },
    {
      "cell_type": "markdown",
      "source": [
        "# **DATOS CON FOMATO INCORRECTO**\n",
        "\n",
        "En el sprint anterior, se pudo observar que las columnas 'Destino del reclamo', 'Quién lo resolvió', 'Tipo de reclamo', 'Fecha del reclamo' y 'Estado del reclamo' contienen datos con formatos incorrectos o inconsistentes. Por lo tanto, se propone a continuación realizar un filtrado de todos los valores posibles en cada una de estas columnas para identificar las variaciones existentes. Posteriormente, se procederá a unificar los valores que, a pesar de sus diferencias de formato o tipeo, representan la misma categoría. Para ello se reutilizara una función creada en la evidencia anterior  'analizar-columna' en cada columna."
      ],
      "metadata": {
        "id": "-Md-7ymyHWb6"
      }
    },
    {
      "cell_type": "markdown",
      "source": [
        "# Columna : 'Destino de reclamo'"
      ],
      "metadata": {
        "id": "_UMShAcPYnoB"
      }
    },
    {
      "cell_type": "code",
      "source": [
        "#Filtrado de valores posibles de columna destino del reclamo que son todas las areas que se resgistran que han recibido reclamos.\n",
        "def analizar_columna(col):\n",
        "    print(\"Columna:\", col)\n",
        "    print(\"Categorías únicas:\", df[col].nunique(dropna=False))\n",
        "    print(\"Cantidad por categoría:\")\n",
        "    print(df[col].value_counts(dropna=False))\n",
        "\n",
        "\n",
        "analizar_columna(\"Destino del reclamo\")"
      ],
      "metadata": {
        "id": "aJeTbCz1JiNT",
        "outputId": "7298da21-7df6-49b6-de8f-ac402a480f40",
        "colab": {
          "base_uri": "https://localhost:8080/"
        }
      },
      "execution_count": null,
      "outputs": [
        {
          "output_type": "stream",
          "name": "stdout",
          "text": [
            "Columna: Destino del reclamo\n",
            "Categorías únicas: 35\n",
            "Cantidad por categoría:\n",
            "Destino del reclamo\n",
            "Sistemas                31\n",
            "Recursos humanos        29\n",
            "Soporte técnico         28\n",
            "RECURSOS HUMANOS        27\n",
            "Infraestructura         27\n",
            "SOPORTE TÉCNICO         25\n",
            "SISTEMAS                22\n",
            "Finanzas                21\n",
            "NaN                     20\n",
            "INFRAESTRUCTURA         15\n",
            "soporte técnico         13\n",
            "sistemas                13\n",
            "  Finanzas              12\n",
            "finanzas                12\n",
            "  Soporte técnico       12\n",
            "infraestructura         11\n",
            "FINANZAS                10\n",
            "  Sistemas               9\n",
            "recursos humanos         9\n",
            "  Recursos humanos       8\n",
            "  Infraestructura        7\n",
            "  INFRAESTRUCTURA        5\n",
            "  soporte técnico        4\n",
            "  finanzas               4\n",
            "  RECURSOS HUMANOS       4\n",
            "S0p0rte técnic0          4\n",
            "Recurs0s human0s         3\n",
            "s0p0rte técnic0          3\n",
            "  SOPORTE TÉCNICO        3\n",
            "  infraestructura        2\n",
            "  recursos humanos       2\n",
            "  SISTEMAS               2\n",
            "  s0p0rte técnic0        1\n",
            "  S0p0rte técnic0        1\n",
            "  sistemas               1\n",
            "Name: count, dtype: int64\n"
          ]
        }
      ]
    },
    {
      "cell_type": "markdown",
      "source": [
        "Se observan que en esta columna hay 35 categorias, pero muchas estan repetidas. Se propone 1)Pasar todos los datos a mayuscula.\n",
        "2) eliminar espacios."
      ],
      "metadata": {
        "id": "oQn_PmujO4i0"
      }
    },
    {
      "cell_type": "code",
      "source": [
        "#Se utiliza str.upper para pasar a mayusculas y str.strip para pasar eliminar espacios\n",
        "print('Se pasan todos los datos a mayuscula y se quitan espacios')\n",
        "df['Destino del reclamo'] = df['Destino del reclamo'].str.upper().str.strip()\n",
        "#Se ejecuta nuevamente la funcion para verificar las categorias\n",
        "analizar_columna(\"Destino del reclamo\")\n",
        "\n",
        "print('***************************************************')\n",
        "\n",
        "#Al observan que hay ceros en vez de la 'o', se reemplazan con str.replace\n",
        "print('Se reemplzan todos los ceros por letras O')\n",
        "df['Destino del reclamo'] = df['Destino del reclamo'].str.replace('0', 'O')\n",
        "#Se ejecuta nuevamente la funcion para verificar las categorias\n",
        "analizar_columna(\"Destino del reclamo\")\n",
        "\n"
      ],
      "metadata": {
        "id": "V0tbu7suSsff",
        "outputId": "38fd49e8-7f48-4094-da12-9099d772140e",
        "colab": {
          "base_uri": "https://localhost:8080/"
        }
      },
      "execution_count": null,
      "outputs": [
        {
          "output_type": "stream",
          "name": "stdout",
          "text": [
            "Se pasan todos los datos a mayuscula y se quitan espacios\n",
            "Columna: Destino del reclamo\n",
            "Categorías únicas: 8\n",
            "Cantidad por categoría:\n",
            "Destino del reclamo\n",
            "SOPORTE TÉCNICO     85\n",
            "RECURSOS HUMANOS    79\n",
            "SISTEMAS            78\n",
            "INFRAESTRUCTURA     67\n",
            "FINANZAS            59\n",
            "NaN                 20\n",
            "S0P0RTE TÉCNIC0      9\n",
            "RECURS0S HUMAN0S     3\n",
            "Name: count, dtype: int64\n",
            "***************************************************\n",
            "Se reemplzan todos los ceros por letras O\n",
            "Columna: Destino del reclamo\n",
            "Categorías únicas: 6\n",
            "Cantidad por categoría:\n",
            "Destino del reclamo\n",
            "SOPORTE TÉCNICO     94\n",
            "RECURSOS HUMANOS    82\n",
            "SISTEMAS            78\n",
            "INFRAESTRUCTURA     67\n",
            "FINANZAS            59\n",
            "NaN                 20\n",
            "Name: count, dtype: int64\n"
          ]
        }
      ]
    },
    {
      "cell_type": "markdown",
      "source": [
        "#Resultado: Destino del reclamo\n",
        "\n",
        "*Se obtienen 5 categorias  y se observan que hay datos ausentes, que se limpiaran en la proxima seccion.*"
      ],
      "metadata": {
        "id": "_ozJZ6qAVyZC"
      }
    },
    {
      "cell_type": "markdown",
      "source": [
        "# Columna : 'Quién lo resolvió'"
      ],
      "metadata": {
        "id": "k1UagKKLZ2Li"
      }
    },
    {
      "cell_type": "code",
      "source": [
        "#Filtrado de valores posibles de columna Quien lo resolvio que son todas las areas que se resgistran que han recibido reclamos.\n",
        "def analizar_columna(col):\n",
        "    print(\"Columna:\", col)\n",
        "    print(\"Categorías únicas:\", df[col].nunique(dropna=False))\n",
        "    print(\"Cantidad por categoría:\")\n",
        "    print(df[col].value_counts(dropna=False))\n",
        "\n",
        "\n",
        "analizar_columna(\"Quién lo resolvió\")"
      ],
      "metadata": {
        "id": "IOdjWxskaR_H",
        "outputId": "df78f2ac-75b3-4896-b40e-389127208ccf",
        "colab": {
          "base_uri": "https://localhost:8080/"
        }
      },
      "execution_count": null,
      "outputs": [
        {
          "output_type": "stream",
          "name": "stdout",
          "text": [
            "Columna: Quién lo resolvió\n",
            "Categorías únicas: 37\n",
            "Cantidad por categoría:\n",
            "Quién lo resolvió\n",
            "Help Desk               36\n",
            "Juan Pérez              34\n",
            "JUAN PÉREZ              27\n",
            "Administrador TI        27\n",
            "Soporte Nivel 1         26\n",
            "María López             24\n",
            "NaN                     20\n",
            "HELP DESK               17\n",
            "MARÍA LÓPEZ             15\n",
            "soporte nivel 1         14\n",
            "SOPORTE NIVEL 1         14\n",
            "  Juan Pérez            12\n",
            "help desk               12\n",
            "juan pérez              12\n",
            "ADMINISTRADOR TI        12\n",
            "maría lópez             12\n",
            "administrador ti        11\n",
            "  Soporte Nivel 1       11\n",
            "  Help Desk              8\n",
            "  MARÍA LÓPEZ            7\n",
            "  María López            6\n",
            "  help desk              6\n",
            "  ADMINISTRADOR TI       5\n",
            "  Administrador TI       5\n",
            "  soporte nivel 1        4\n",
            "  SOPORTE NIVEL 1        4\n",
            "S0p0rte Nivel 1          4\n",
            "  maría lópez            3\n",
            "  administrador ti       3\n",
            "  HELP DESK              2\n",
            "  S0p0rte Nivel 1        1\n",
            "Administrad0r TI         1\n",
            "  Administrad0r TI       1\n",
            "administrad0r ti         1\n",
            "  administrad0r ti       1\n",
            "  juan pérez             1\n",
            "s0p0rte nivel 1          1\n",
            "Name: count, dtype: int64\n"
          ]
        }
      ]
    },
    {
      "cell_type": "code",
      "source": [
        "#Se utiliza str.upper para pasar a mayusculas y str.strip para pasar eliminar espacios\n",
        "print('Se pasan todos los datos a mayuscula y se quitan espacios')\n",
        "df['Quién lo resolvió'] = df['Quién lo resolvió'].str.upper().str.strip()\n",
        "\n",
        "#Se ejecuta nuevamente la funcion para verificar las categorias\n",
        "analizar_columna(\"Quién lo resolvió\")\n",
        "\n",
        "print('***************************************************')\n",
        "\n",
        "#Al observan que hay ceros en vez de la 'o', se reemplazan con str.replace\n",
        "print('Se reemplzan todos los ceros por letras O')\n",
        "df['Quién lo resolvió'] = df['Quién lo resolvió'].str.replace('0', 'O')\n",
        "#Se ejecuta nuevamente la funcion para verificar las categorias\n",
        "analizar_columna(\"Quién lo resolvió\")"
      ],
      "metadata": {
        "id": "WxEkcYlkbl_H",
        "outputId": "9c360f75-5d41-4162-90bf-465f988edefb",
        "colab": {
          "base_uri": "https://localhost:8080/"
        }
      },
      "execution_count": null,
      "outputs": [
        {
          "output_type": "stream",
          "name": "stdout",
          "text": [
            "Se pasan todos los datos a mayuscula y se quitan espacios\n",
            "Columna: Quién lo resolvió\n",
            "Categorías únicas: 8\n",
            "Cantidad por categoría:\n",
            "Quién lo resolvió\n",
            "JUAN PÉREZ          86\n",
            "HELP DESK           81\n",
            "SOPORTE NIVEL 1     73\n",
            "MARÍA LÓPEZ         67\n",
            "ADMINISTRADOR TI    63\n",
            "NaN                 20\n",
            "S0P0RTE NIVEL 1      6\n",
            "ADMINISTRAD0R TI     4\n",
            "Name: count, dtype: int64\n",
            "***************************************************\n",
            "Se reemplzan todos los ceros por letras O\n",
            "Columna: Quién lo resolvió\n",
            "Categorías únicas: 6\n",
            "Cantidad por categoría:\n",
            "Quién lo resolvió\n",
            "JUAN PÉREZ          86\n",
            "HELP DESK           81\n",
            "SOPORTE NIVEL 1     79\n",
            "ADMINISTRADOR TI    67\n",
            "MARÍA LÓPEZ         67\n",
            "NaN                 20\n",
            "Name: count, dtype: int64\n"
          ]
        }
      ]
    },
    {
      "cell_type": "markdown",
      "source": [
        "#Resultado: Columna: Quién lo resolvió\n",
        "\n",
        "*Se obtienen 5 categorias  y se observan que hay datos ausentes, que se limpiaran en la proxima seccion.*"
      ],
      "metadata": {
        "id": "msav5V-Udq3_"
      }
    },
    {
      "cell_type": "markdown",
      "source": [
        "# Columna: Tipo de recamo"
      ],
      "metadata": {
        "id": "wzhZol1UgJWV"
      }
    },
    {
      "cell_type": "markdown",
      "source": [
        "Se realizó el análisis y la corrección. No se subió al repositorio en el momento pero sí modificó el archivo original. Al refrescar el repositorio con lo trabajado por la compañera Hebe, no es posible mostrar ese proceso. Se muestra el resultado."
      ],
      "metadata": {
        "id": "oqLBDzsKgZuE"
      }
    },
    {
      "cell_type": "code",
      "source": [
        "#Se utiliza str.upper para pasar a mayusculas y str.strip para pasar eliminar espacios\n",
        "print('Se pasan todos los datos a mayuscula y se quitan espacios')\n",
        "df['Tipo de reclamo'] = df['Tipo de reclamo'].str.upper().str.strip()\n",
        "\n",
        "#Se ejecuta nuevamente la funcion para verificar las categorias\n",
        "analizar_columna(\"Tipo de reclamo\")\n",
        "\n",
        "print('***************************************************')\n",
        "\n",
        "#Al observan que hay ceros en vez de la 'o', se reemplazan con str.replace\n",
        "print('Se reemplzan todos los ceros por letras O')\n",
        "df['Tipo de reclamo'] = df['Tipo de reclamo'].str.replace('0', 'O')\n",
        "#Se ejecuta nuevamente la funcion para verificar las categorias\n",
        "\n",
        "analizar_columna(\"Tipo de reclamo\")\n",
        "analizar_columna(\"Tipo de reclamo\")"
      ],
      "metadata": {
        "colab": {
          "base_uri": "https://localhost:8080/"
        },
        "id": "YutQcmT7edli",
        "outputId": "c77ac319-2317-4cf6-c138-8d044cda3f6c"
      },
      "execution_count": null,
      "outputs": [
        {
          "output_type": "stream",
          "name": "stdout",
          "text": [
            "Se pasan todos los datos a mayuscula y se quitan espacios\n",
            "Columna: Tipo de reclamo\n",
            "Categorías únicas: 11\n",
            "Cantidad por categoría:\n",
            "Tipo de reclamo\n",
            "CONSULTA GENERAL             80\n",
            "PROBLEMA DE ACCESO           76\n",
            "ERROR DE SISTEMA             71\n",
            "ACTUALIZACIÓN DE SOFTWARE    69\n",
            "SOLICITUD DE EQUIPO          67\n",
            "NaN                          20\n",
            "ERR0R DE SISTEMA              7\n",
            "C0NSULTA GENERAL              4\n",
            "ACTUALIZACIÓN DE S0FTWARE     3\n",
            "S0LICITUD DE EQUIP0           2\n",
            "PR0BLEMA DE ACCES0            1\n",
            "Name: count, dtype: int64\n",
            "***************************************************\n",
            "Se reemplzan todos los ceros por letras O\n",
            "Columna: Tipo de reclamo\n",
            "Categorías únicas: 6\n",
            "Cantidad por categoría:\n",
            "Tipo de reclamo\n",
            "CONSULTA GENERAL             84\n",
            "ERROR DE SISTEMA             78\n",
            "PROBLEMA DE ACCESO           77\n",
            "ACTUALIZACIÓN DE SOFTWARE    72\n",
            "SOLICITUD DE EQUIPO          69\n",
            "NaN                          20\n",
            "Name: count, dtype: int64\n",
            "Columna: Tipo de reclamo\n",
            "Categorías únicas: 6\n",
            "Cantidad por categoría:\n",
            "Tipo de reclamo\n",
            "CONSULTA GENERAL             84\n",
            "ERROR DE SISTEMA             78\n",
            "PROBLEMA DE ACCESO           77\n",
            "ACTUALIZACIÓN DE SOFTWARE    72\n",
            "SOLICITUD DE EQUIPO          69\n",
            "NaN                          20\n",
            "Name: count, dtype: int64\n"
          ]
        }
      ]
    },
    {
      "cell_type": "markdown",
      "source": [
        "# Resultado Columna: Tipo de reclamo\n",
        "\n",
        "*Se observan 5 categorías válidas. Las nulas se limpiarán en la próxima sección*"
      ],
      "metadata": {
        "id": "l3UIF9DPhFL8"
      }
    },
    {
      "cell_type": "markdown",
      "source": [
        "# Columna: Estado del reclamo\n",
        "\n",
        "Al igual que las columnas anteriores se analizan el formato que tienen los datos, se unifica pasando todo a mayúscula y se observa que hay ceros (0) en lugar de oes (O) por lo que se procede a reemplazarlos."
      ],
      "metadata": {
        "id": "UbqHUUHmhyNw"
      }
    },
    {
      "cell_type": "code",
      "source": [
        "analizar_columna(\"Estado del reclamo\")\n"
      ],
      "metadata": {
        "colab": {
          "base_uri": "https://localhost:8080/"
        },
        "id": "R2ckJESKe-Pm",
        "outputId": "c2e9a3f8-d1f7-469a-d904-5d63b3f7d200"
      },
      "execution_count": null,
      "outputs": [
        {
          "output_type": "stream",
          "name": "stdout",
          "text": [
            "Columna: Estado del reclamo\n",
            "Categorías únicas: 32\n",
            "Cantidad por categoría:\n",
            "Estado del reclamo\n",
            "Pendiente         45\n",
            "Cerrado           38\n",
            "En proceso        35\n",
            "Resuelto          28\n",
            "EN PROCESO        27\n",
            "PENDIENTE         23\n",
            "RESUELTO          21\n",
            "NaN               20\n",
            "CERRADO           20\n",
            "resuelto          17\n",
            "  PENDIENTE       13\n",
            "  Cerrado         12\n",
            "  RESUELTO        12\n",
            "pendiente         12\n",
            "cerrado           11\n",
            "en proceso        10\n",
            "  En proceso       7\n",
            "En pr0ces0         6\n",
            "  CERRADO          5\n",
            "  Resuelto         5\n",
            "Resuelt0           5\n",
            "  Pendiente        5\n",
            "  pendiente        4\n",
            "  EN PROCESO       3\n",
            "en pr0ces0         3\n",
            "Cerrad0            3\n",
            "  cerrado          3\n",
            "  En pr0ces0       3\n",
            "  resuelto         1\n",
            "  cerrad0          1\n",
            "  en proceso       1\n",
            "  Cerrad0          1\n",
            "Name: count, dtype: int64\n"
          ]
        }
      ]
    },
    {
      "cell_type": "code",
      "source": [
        "print('Se pasan todos los datos a mayuscula y se quitan espacios')\n",
        "df['Estado del reclamo'] = df['Estado del reclamo'].str.upper().str.strip()\n",
        "\n",
        "analizar_columna(\"Estado del reclamo\")\n",
        "\n",
        "print('***************************************************')\n",
        "\n",
        "print('Se reemplzan todos los ceros por letras O')\n",
        "df['Estado del reclamo'] = df['Estado del reclamo'].str.replace('0', 'O')\n",
        "\n",
        "analizar_columna(\"Estado del reclamo\")"
      ],
      "metadata": {
        "colab": {
          "base_uri": "https://localhost:8080/"
        },
        "id": "05en_-QcfLjW",
        "outputId": "065dbd42-7e48-4546-c4b0-3be35929cd62"
      },
      "execution_count": null,
      "outputs": [
        {
          "output_type": "stream",
          "name": "stdout",
          "text": [
            "Se pasan todos los datos a mayuscula y se quitan espacios\n",
            "Columna: Estado del reclamo\n",
            "Categorías únicas: 8\n",
            "Cantidad por categoría:\n",
            "Estado del reclamo\n",
            "PENDIENTE     102\n",
            "CERRADO        89\n",
            "RESUELTO       84\n",
            "EN PROCESO     83\n",
            "NaN            20\n",
            "EN PR0CES0     12\n",
            "CERRAD0         5\n",
            "RESUELT0        5\n",
            "Name: count, dtype: int64\n",
            "***************************************************\n",
            "Se reemplzan todos los ceros por letras O\n",
            "Columna: Estado del reclamo\n",
            "Categorías únicas: 5\n",
            "Cantidad por categoría:\n",
            "Estado del reclamo\n",
            "PENDIENTE     102\n",
            "EN PROCESO     95\n",
            "CERRADO        94\n",
            "RESUELTO       89\n",
            "NaN            20\n",
            "Name: count, dtype: int64\n"
          ]
        }
      ]
    },
    {
      "cell_type": "markdown",
      "source": [
        "# Resultado Columna: Estado del reclamo\n",
        "\n",
        "*Quedan bien identificados los estados posibles. Los valores nulos serán limpiados en la prósima seccón*"
      ],
      "metadata": {
        "id": "Uf5cKs5Fil-b"
      }
    },
    {
      "cell_type": "markdown",
      "source": [
        "# Columna : Fecha de reclamo.\n",
        "\n",
        "En la evidencia dos, se analizó esta columna en la siguiente celda: https://colab.research.google.com/drive/1ZOsXAIi3QDvm6AqHDUCxa9w4jRr5Sp7X#scrollTo=Dnj0CjIKncqW&line=1&uniqifier=1\n",
        "\n",
        "Allí se observa que hay 92 datos mal registrados (error de formato).\n",
        "\n",
        "Además de los datos de formato incorrecto, se desea formatear todas las fechas de formato 'm/d/y' a formato 'y/m/d'.\n",
        "\n",
        "Conocemos que los registros de fechas datan desde el 1/1/2024 al 3/2/2025 inclusive.\n",
        "\n",
        "Tras observar el dataset, se interpreta que las fechas son consecutivas y los registros corresponden a uno por día, por lo que se corregirán los datos nulos en la siguiente sección."
      ],
      "metadata": {
        "id": "kgj30qctnQ2V"
      }
    },
    {
      "cell_type": "code",
      "source": [
        "\n",
        "\n",
        "# Primero intentamos pasar los datos de la columna 'Fecha del reclamo' a datetime usando format='mixed' para cualquier formato que tengan\n",
        "\n",
        "df['Fecha del reclamo'] = pd.to_datetime(df['Fecha del reclamo'], format='mixed', errors='coerce')\n",
        "\n",
        "# Ahora corroboramos las fechas que siguen con formato incorrecto (convertidas a NaT)\n",
        "fechas_mal_formateadas = df[df['Fecha del reclamo'].isnull()]\n",
        "\n",
        "# Mostramos que las fechas que no pudieron ser convertidas son las de valor null\n",
        "print(\"Fechas que aún tienen formato incorrecto después de usar format='mixed':\")\n",
        "print(fechas_mal_formateadas['Fecha del reclamo'])\n",
        "\n"
      ],
      "metadata": {
        "id": "HMEJYllutc_j",
        "outputId": "91e5aa57-5a18-4eed-dcc1-66a1f8f88f15",
        "colab": {
          "base_uri": "https://localhost:8080/"
        }
      },
      "execution_count": null,
      "outputs": [
        {
          "output_type": "stream",
          "name": "stdout",
          "text": [
            "Fechas que aún tienen formato incorrecto después de usar format='mixed':\n",
            "0     NaT\n",
            "1     NaT\n",
            "46    NaT\n",
            "116   NaT\n",
            "128   NaT\n",
            "160   NaT\n",
            "173   NaT\n",
            "186   NaT\n",
            "190   NaT\n",
            "197   NaT\n",
            "208   NaT\n",
            "213   NaT\n",
            "225   NaT\n",
            "276   NaT\n",
            "304   NaT\n",
            "320   NaT\n",
            "321   NaT\n",
            "324   NaT\n",
            "343   NaT\n",
            "356   NaT\n",
            "Name: Fecha del reclamo, dtype: datetime64[ns]\n"
          ]
        }
      ]
    },
    {
      "cell_type": "markdown",
      "source": [
        "# Resultado Columna: fecha del reclamo.\n",
        "\n",
        "Se limpiaron los 92 datos con formato incorrecto detectados en la evidencia 2. Los datos ausentes seran evaluados en la proxima seccion."
      ],
      "metadata": {
        "id": "gxShzZ24wj5K"
      }
    },
    {
      "cell_type": "markdown",
      "source": [
        "# ***DATOS AUSENTES***\n",
        "\n",
        "Para visualizar y tener conocimiento de los datos ausentes, se utilizará el método isnull de Pandas. Como no podremos visualizar la totalidad de datos, sumaremos los valores True de cada columna para tener referencia de la cantidad de datos nulos obtenidos en cada columna, y así evaluar cómo proseguir."
      ],
      "metadata": {
        "id": "xlzcvGwHFa2d"
      }
    },
    {
      "cell_type": "code",
      "source": [
        "#Vamos a visualizar los datos nullos o ausentes\n",
        "#False=no nulo y True= nulo\n",
        "nulos_df = df.isnull()\n",
        "print(nulos_df)"
      ],
      "metadata": {
        "id": "Wy2gf1Yswpa8",
        "outputId": "aa394043-990d-468f-d02a-ebe1d917654a",
        "colab": {
          "base_uri": "https://localhost:8080/"
        }
      },
      "execution_count": null,
      "outputs": [
        {
          "output_type": "stream",
          "name": "stdout",
          "text": [
            "     Destino del reclamo  Quién lo resolvió  Tipo de reclamo  \\\n",
            "0                  False               True            False   \n",
            "1                  False               True            False   \n",
            "2                  False              False            False   \n",
            "3                  False              False            False   \n",
            "4                  False              False            False   \n",
            "..                   ...                ...              ...   \n",
            "395                False              False            False   \n",
            "396                False              False            False   \n",
            "397                False              False            False   \n",
            "398                 True              False            False   \n",
            "399                False              False            False   \n",
            "\n",
            "     Fecha del reclamo  Estado del reclamo  Grado de satisfacción  \\\n",
            "0                 True               False                  False   \n",
            "1                 True               False                  False   \n",
            "2                False               False                  False   \n",
            "3                False               False                  False   \n",
            "4                False               False                  False   \n",
            "..                 ...                 ...                    ...   \n",
            "395              False               False                  False   \n",
            "396              False               False                  False   \n",
            "397              False               False                  False   \n",
            "398              False               False                  False   \n",
            "399              False               False                  False   \n",
            "\n",
            "     Dias de resolucion  \n",
            "0                 False  \n",
            "1                 False  \n",
            "2                 False  \n",
            "3                 False  \n",
            "4                 False  \n",
            "..                  ...  \n",
            "395               False  \n",
            "396               False  \n",
            "397               False  \n",
            "398               False  \n",
            "399               False  \n",
            "\n",
            "[400 rows x 7 columns]\n"
          ]
        }
      ]
    },
    {
      "cell_type": "code",
      "source": [
        "#Sumamos la cantidad de valores nulos por cada columna del dataframe\n",
        "nulos_por_columna = nulos_df.sum()\n",
        "print(\"\\nCantidad de valores nulos por columna:\")\n",
        "print(nulos_por_columna)"
      ],
      "metadata": {
        "id": "0WPoKMUGFoC1",
        "outputId": "4ed9e37a-55fc-4670-d569-fe17b3808287",
        "colab": {
          "base_uri": "https://localhost:8080/"
        }
      },
      "execution_count": null,
      "outputs": [
        {
          "output_type": "stream",
          "name": "stdout",
          "text": [
            "\n",
            "Cantidad de valores nulos por columna:\n",
            "Destino del reclamo      20\n",
            "Quién lo resolvió        20\n",
            "Tipo de reclamo          20\n",
            "Fecha del reclamo        20\n",
            "Estado del reclamo       20\n",
            "Grado de satisfacción     0\n",
            "Dias de resolucion        0\n",
            "dtype: int64\n"
          ]
        }
      ]
    },
    {
      "cell_type": "markdown",
      "source": [
        "Como se puede observar, las columnas destino de reclamo tiene 20 datos nulos, quien lo resolvió tiene 20 datos nulos, tipo de reclamo tiene 20 datos nulos y fecha de reclamo tiene 20 datos nulos y estado del reclamo tambien tiene 20 datos nulos, en tanto las columnas grado de sastifacción y dias de resolución no poseen valores nulos"
      ],
      "metadata": {
        "id": "CronNAmSFr86"
      }
    },
    {
      "cell_type": "markdown",
      "source": [
        "# **Limpieza de datos nulos**\n",
        "\n",
        "---\n",
        "\n"
      ],
      "metadata": {
        "id": "KdGiiwzQgx9w"
      }
    },
    {
      "cell_type": "code",
      "source": [
        "\n",
        "#Reemplazar espacios vacíos por NaN en las primeras tres columnas\n",
        "cols_to_fill = df.columns[:3]\n",
        "df[cols_to_fill] = df[cols_to_fill].replace(r'^\\s*$', np.nan, regex=True)\n",
        "\n",
        "#Rellenar los datos nulos o vacios con la moda de cada columna\n",
        "for col in cols_to_fill:\n",
        "    moda = df[col].mode().iloc[0]\n",
        "    df[col] = df[col].fillna(moda)\n",
        "\n",
        "#Convertir la columna de fechas a datetime\n",
        "df['Fecha del reclamo'] = pd.to_datetime(df['Fecha del reclamo'], errors='coerce')\n",
        "\n",
        "#Rellenamos de forma manual las dos primeras fechas dado que era dificultoso realizarlo de forma automatica\n",
        "if pd.isna(df.loc[0, 'Fecha del reclamo']):\n",
        "    df.loc[0, 'Fecha del reclamo'] = pd.Timestamp('2024-01-01')\n",
        "if pd.isna(df.loc[1, 'Fecha del reclamo']):\n",
        "    df.loc[1, 'Fecha del reclamo'] = pd.Timestamp('2024-01-02')\n",
        "\n",
        "# Rellenar fechas faltantes a partir de la fila 2 con el patron que siguen\n",
        "# tomando como referencia la fecha de la fila anterior\n",
        "for i in range(2, len(df)):\n",
        "    if pd.isna(df.loc[i, 'Fecha del reclamo']):\n",
        "        df.loc[i, 'Fecha del reclamo'] = df.loc[i - 1, 'Fecha del reclamo'] + pd.Timedelta(days=1)\n",
        "\n",
        "\n",
        "df.head(400)"
      ],
      "metadata": {
        "colab": {
          "base_uri": "https://localhost:8080/",
          "height": 615
        },
        "id": "DZmfTtTvBmHY",
        "outputId": "60047974-a320-4514-8306-6d9097e04519"
      },
      "execution_count": null,
      "outputs": [
        {
          "output_type": "execute_result",
          "data": {
            "text/plain": [
              "    Destino del reclamo Quién lo resolvió            Tipo de reclamo  \\\n",
              "0       INFRAESTRUCTURA        JUAN PÉREZ  ACTUALIZACIÓN DE SOFTWARE   \n",
              "1       SOPORTE TÉCNICO        JUAN PÉREZ         PROBLEMA DE ACCESO   \n",
              "2      RECURSOS HUMANOS  ADMINISTRADOR TI        SOLICITUD DE EQUIPO   \n",
              "3       INFRAESTRUCTURA        JUAN PÉREZ         PROBLEMA DE ACCESO   \n",
              "4       SOPORTE TÉCNICO         HELP DESK  ACTUALIZACIÓN DE SOFTWARE   \n",
              "..                  ...               ...                        ...   \n",
              "395            FINANZAS  ADMINISTRADOR TI           CONSULTA GENERAL   \n",
              "396     SOPORTE TÉCNICO   SOPORTE NIVEL 1           CONSULTA GENERAL   \n",
              "397     SOPORTE TÉCNICO         HELP DESK        SOLICITUD DE EQUIPO   \n",
              "398     SOPORTE TÉCNICO         HELP DESK           CONSULTA GENERAL   \n",
              "399            FINANZAS  ADMINISTRADOR TI         PROBLEMA DE ACCESO   \n",
              "\n",
              "    Fecha del reclamo Estado del reclamo  Grado de satisfacción  \\\n",
              "0          2024-01-01            CERRADO                      3   \n",
              "1          2024-01-02          PENDIENTE                      0   \n",
              "2          2024-01-03           RESUELTO                      2   \n",
              "3          2024-01-04         EN PROCESO                      0   \n",
              "4          2024-01-05           RESUELTO                      5   \n",
              "..                ...                ...                    ...   \n",
              "395        2025-01-30            CERRADO                      5   \n",
              "396        2025-01-31          PENDIENTE                      0   \n",
              "397        2025-02-01         EN PROCESO                      0   \n",
              "398        2002-02-25           RESUELTO                      3   \n",
              "399        2025-02-03           RESUELTO                      1   \n",
              "\n",
              "     Dias de resolucion  \n",
              "0                     6  \n",
              "1                     7  \n",
              "2                     5  \n",
              "3                     2  \n",
              "4                     5  \n",
              "..                  ...  \n",
              "395                   3  \n",
              "396                   3  \n",
              "397                   4  \n",
              "398                   4  \n",
              "399                   5  \n",
              "\n",
              "[400 rows x 7 columns]"
            ],
            "text/html": [
              "\n",
              "  <div id=\"df-9bfd2f69-444f-4c92-8189-cc6593781aee\" class=\"colab-df-container\">\n",
              "    <div>\n",
              "<style scoped>\n",
              "    .dataframe tbody tr th:only-of-type {\n",
              "        vertical-align: middle;\n",
              "    }\n",
              "\n",
              "    .dataframe tbody tr th {\n",
              "        vertical-align: top;\n",
              "    }\n",
              "\n",
              "    .dataframe thead th {\n",
              "        text-align: right;\n",
              "    }\n",
              "</style>\n",
              "<table border=\"1\" class=\"dataframe\">\n",
              "  <thead>\n",
              "    <tr style=\"text-align: right;\">\n",
              "      <th></th>\n",
              "      <th>Destino del reclamo</th>\n",
              "      <th>Quién lo resolvió</th>\n",
              "      <th>Tipo de reclamo</th>\n",
              "      <th>Fecha del reclamo</th>\n",
              "      <th>Estado del reclamo</th>\n",
              "      <th>Grado de satisfacción</th>\n",
              "      <th>Dias de resolucion</th>\n",
              "    </tr>\n",
              "  </thead>\n",
              "  <tbody>\n",
              "    <tr>\n",
              "      <th>0</th>\n",
              "      <td>INFRAESTRUCTURA</td>\n",
              "      <td>JUAN PÉREZ</td>\n",
              "      <td>ACTUALIZACIÓN DE SOFTWARE</td>\n",
              "      <td>2024-01-01</td>\n",
              "      <td>CERRADO</td>\n",
              "      <td>3</td>\n",
              "      <td>6</td>\n",
              "    </tr>\n",
              "    <tr>\n",
              "      <th>1</th>\n",
              "      <td>SOPORTE TÉCNICO</td>\n",
              "      <td>JUAN PÉREZ</td>\n",
              "      <td>PROBLEMA DE ACCESO</td>\n",
              "      <td>2024-01-02</td>\n",
              "      <td>PENDIENTE</td>\n",
              "      <td>0</td>\n",
              "      <td>7</td>\n",
              "    </tr>\n",
              "    <tr>\n",
              "      <th>2</th>\n",
              "      <td>RECURSOS HUMANOS</td>\n",
              "      <td>ADMINISTRADOR TI</td>\n",
              "      <td>SOLICITUD DE EQUIPO</td>\n",
              "      <td>2024-01-03</td>\n",
              "      <td>RESUELTO</td>\n",
              "      <td>2</td>\n",
              "      <td>5</td>\n",
              "    </tr>\n",
              "    <tr>\n",
              "      <th>3</th>\n",
              "      <td>INFRAESTRUCTURA</td>\n",
              "      <td>JUAN PÉREZ</td>\n",
              "      <td>PROBLEMA DE ACCESO</td>\n",
              "      <td>2024-01-04</td>\n",
              "      <td>EN PROCESO</td>\n",
              "      <td>0</td>\n",
              "      <td>2</td>\n",
              "    </tr>\n",
              "    <tr>\n",
              "      <th>4</th>\n",
              "      <td>SOPORTE TÉCNICO</td>\n",
              "      <td>HELP DESK</td>\n",
              "      <td>ACTUALIZACIÓN DE SOFTWARE</td>\n",
              "      <td>2024-01-05</td>\n",
              "      <td>RESUELTO</td>\n",
              "      <td>5</td>\n",
              "      <td>5</td>\n",
              "    </tr>\n",
              "    <tr>\n",
              "      <th>...</th>\n",
              "      <td>...</td>\n",
              "      <td>...</td>\n",
              "      <td>...</td>\n",
              "      <td>...</td>\n",
              "      <td>...</td>\n",
              "      <td>...</td>\n",
              "      <td>...</td>\n",
              "    </tr>\n",
              "    <tr>\n",
              "      <th>395</th>\n",
              "      <td>FINANZAS</td>\n",
              "      <td>ADMINISTRADOR TI</td>\n",
              "      <td>CONSULTA GENERAL</td>\n",
              "      <td>2025-01-30</td>\n",
              "      <td>CERRADO</td>\n",
              "      <td>5</td>\n",
              "      <td>3</td>\n",
              "    </tr>\n",
              "    <tr>\n",
              "      <th>396</th>\n",
              "      <td>SOPORTE TÉCNICO</td>\n",
              "      <td>SOPORTE NIVEL 1</td>\n",
              "      <td>CONSULTA GENERAL</td>\n",
              "      <td>2025-01-31</td>\n",
              "      <td>PENDIENTE</td>\n",
              "      <td>0</td>\n",
              "      <td>3</td>\n",
              "    </tr>\n",
              "    <tr>\n",
              "      <th>397</th>\n",
              "      <td>SOPORTE TÉCNICO</td>\n",
              "      <td>HELP DESK</td>\n",
              "      <td>SOLICITUD DE EQUIPO</td>\n",
              "      <td>2025-02-01</td>\n",
              "      <td>EN PROCESO</td>\n",
              "      <td>0</td>\n",
              "      <td>4</td>\n",
              "    </tr>\n",
              "    <tr>\n",
              "      <th>398</th>\n",
              "      <td>SOPORTE TÉCNICO</td>\n",
              "      <td>HELP DESK</td>\n",
              "      <td>CONSULTA GENERAL</td>\n",
              "      <td>2002-02-25</td>\n",
              "      <td>RESUELTO</td>\n",
              "      <td>3</td>\n",
              "      <td>4</td>\n",
              "    </tr>\n",
              "    <tr>\n",
              "      <th>399</th>\n",
              "      <td>FINANZAS</td>\n",
              "      <td>ADMINISTRADOR TI</td>\n",
              "      <td>PROBLEMA DE ACCESO</td>\n",
              "      <td>2025-02-03</td>\n",
              "      <td>RESUELTO</td>\n",
              "      <td>1</td>\n",
              "      <td>5</td>\n",
              "    </tr>\n",
              "  </tbody>\n",
              "</table>\n",
              "<p>400 rows × 7 columns</p>\n",
              "</div>\n",
              "    <div class=\"colab-df-buttons\">\n",
              "\n",
              "  <div class=\"colab-df-container\">\n",
              "    <button class=\"colab-df-convert\" onclick=\"convertToInteractive('df-9bfd2f69-444f-4c92-8189-cc6593781aee')\"\n",
              "            title=\"Convert this dataframe to an interactive table.\"\n",
              "            style=\"display:none;\">\n",
              "\n",
              "  <svg xmlns=\"http://www.w3.org/2000/svg\" height=\"24px\" viewBox=\"0 -960 960 960\">\n",
              "    <path d=\"M120-120v-720h720v720H120Zm60-500h600v-160H180v160Zm220 220h160v-160H400v160Zm0 220h160v-160H400v160ZM180-400h160v-160H180v160Zm440 0h160v-160H620v160ZM180-180h160v-160H180v160Zm440 0h160v-160H620v160Z\"/>\n",
              "  </svg>\n",
              "    </button>\n",
              "\n",
              "  <style>\n",
              "    .colab-df-container {\n",
              "      display:flex;\n",
              "      gap: 12px;\n",
              "    }\n",
              "\n",
              "    .colab-df-convert {\n",
              "      background-color: #E8F0FE;\n",
              "      border: none;\n",
              "      border-radius: 50%;\n",
              "      cursor: pointer;\n",
              "      display: none;\n",
              "      fill: #1967D2;\n",
              "      height: 32px;\n",
              "      padding: 0 0 0 0;\n",
              "      width: 32px;\n",
              "    }\n",
              "\n",
              "    .colab-df-convert:hover {\n",
              "      background-color: #E2EBFA;\n",
              "      box-shadow: 0px 1px 2px rgba(60, 64, 67, 0.3), 0px 1px 3px 1px rgba(60, 64, 67, 0.15);\n",
              "      fill: #174EA6;\n",
              "    }\n",
              "\n",
              "    .colab-df-buttons div {\n",
              "      margin-bottom: 4px;\n",
              "    }\n",
              "\n",
              "    [theme=dark] .colab-df-convert {\n",
              "      background-color: #3B4455;\n",
              "      fill: #D2E3FC;\n",
              "    }\n",
              "\n",
              "    [theme=dark] .colab-df-convert:hover {\n",
              "      background-color: #434B5C;\n",
              "      box-shadow: 0px 1px 3px 1px rgba(0, 0, 0, 0.15);\n",
              "      filter: drop-shadow(0px 1px 2px rgba(0, 0, 0, 0.3));\n",
              "      fill: #FFFFFF;\n",
              "    }\n",
              "  </style>\n",
              "\n",
              "    <script>\n",
              "      const buttonEl =\n",
              "        document.querySelector('#df-9bfd2f69-444f-4c92-8189-cc6593781aee button.colab-df-convert');\n",
              "      buttonEl.style.display =\n",
              "        google.colab.kernel.accessAllowed ? 'block' : 'none';\n",
              "\n",
              "      async function convertToInteractive(key) {\n",
              "        const element = document.querySelector('#df-9bfd2f69-444f-4c92-8189-cc6593781aee');\n",
              "        const dataTable =\n",
              "          await google.colab.kernel.invokeFunction('convertToInteractive',\n",
              "                                                    [key], {});\n",
              "        if (!dataTable) return;\n",
              "\n",
              "        const docLinkHtml = 'Like what you see? Visit the ' +\n",
              "          '<a target=\"_blank\" href=https://colab.research.google.com/notebooks/data_table.ipynb>data table notebook</a>'\n",
              "          + ' to learn more about interactive tables.';\n",
              "        element.innerHTML = '';\n",
              "        dataTable['output_type'] = 'display_data';\n",
              "        await google.colab.output.renderOutput(dataTable, element);\n",
              "        const docLink = document.createElement('div');\n",
              "        docLink.innerHTML = docLinkHtml;\n",
              "        element.appendChild(docLink);\n",
              "      }\n",
              "    </script>\n",
              "  </div>\n",
              "\n",
              "\n",
              "    <div id=\"df-65a89291-7e31-4881-a06b-9be9df2afd0d\">\n",
              "      <button class=\"colab-df-quickchart\" onclick=\"quickchart('df-65a89291-7e31-4881-a06b-9be9df2afd0d')\"\n",
              "                title=\"Suggest charts\"\n",
              "                style=\"display:none;\">\n",
              "\n",
              "<svg xmlns=\"http://www.w3.org/2000/svg\" height=\"24px\"viewBox=\"0 0 24 24\"\n",
              "     width=\"24px\">\n",
              "    <g>\n",
              "        <path d=\"M19 3H5c-1.1 0-2 .9-2 2v14c0 1.1.9 2 2 2h14c1.1 0 2-.9 2-2V5c0-1.1-.9-2-2-2zM9 17H7v-7h2v7zm4 0h-2V7h2v10zm4 0h-2v-4h2v4z\"/>\n",
              "    </g>\n",
              "</svg>\n",
              "      </button>\n",
              "\n",
              "<style>\n",
              "  .colab-df-quickchart {\n",
              "      --bg-color: #E8F0FE;\n",
              "      --fill-color: #1967D2;\n",
              "      --hover-bg-color: #E2EBFA;\n",
              "      --hover-fill-color: #174EA6;\n",
              "      --disabled-fill-color: #AAA;\n",
              "      --disabled-bg-color: #DDD;\n",
              "  }\n",
              "\n",
              "  [theme=dark] .colab-df-quickchart {\n",
              "      --bg-color: #3B4455;\n",
              "      --fill-color: #D2E3FC;\n",
              "      --hover-bg-color: #434B5C;\n",
              "      --hover-fill-color: #FFFFFF;\n",
              "      --disabled-bg-color: #3B4455;\n",
              "      --disabled-fill-color: #666;\n",
              "  }\n",
              "\n",
              "  .colab-df-quickchart {\n",
              "    background-color: var(--bg-color);\n",
              "    border: none;\n",
              "    border-radius: 50%;\n",
              "    cursor: pointer;\n",
              "    display: none;\n",
              "    fill: var(--fill-color);\n",
              "    height: 32px;\n",
              "    padding: 0;\n",
              "    width: 32px;\n",
              "  }\n",
              "\n",
              "  .colab-df-quickchart:hover {\n",
              "    background-color: var(--hover-bg-color);\n",
              "    box-shadow: 0 1px 2px rgba(60, 64, 67, 0.3), 0 1px 3px 1px rgba(60, 64, 67, 0.15);\n",
              "    fill: var(--button-hover-fill-color);\n",
              "  }\n",
              "\n",
              "  .colab-df-quickchart-complete:disabled,\n",
              "  .colab-df-quickchart-complete:disabled:hover {\n",
              "    background-color: var(--disabled-bg-color);\n",
              "    fill: var(--disabled-fill-color);\n",
              "    box-shadow: none;\n",
              "  }\n",
              "\n",
              "  .colab-df-spinner {\n",
              "    border: 2px solid var(--fill-color);\n",
              "    border-color: transparent;\n",
              "    border-bottom-color: var(--fill-color);\n",
              "    animation:\n",
              "      spin 1s steps(1) infinite;\n",
              "  }\n",
              "\n",
              "  @keyframes spin {\n",
              "    0% {\n",
              "      border-color: transparent;\n",
              "      border-bottom-color: var(--fill-color);\n",
              "      border-left-color: var(--fill-color);\n",
              "    }\n",
              "    20% {\n",
              "      border-color: transparent;\n",
              "      border-left-color: var(--fill-color);\n",
              "      border-top-color: var(--fill-color);\n",
              "    }\n",
              "    30% {\n",
              "      border-color: transparent;\n",
              "      border-left-color: var(--fill-color);\n",
              "      border-top-color: var(--fill-color);\n",
              "      border-right-color: var(--fill-color);\n",
              "    }\n",
              "    40% {\n",
              "      border-color: transparent;\n",
              "      border-right-color: var(--fill-color);\n",
              "      border-top-color: var(--fill-color);\n",
              "    }\n",
              "    60% {\n",
              "      border-color: transparent;\n",
              "      border-right-color: var(--fill-color);\n",
              "    }\n",
              "    80% {\n",
              "      border-color: transparent;\n",
              "      border-right-color: var(--fill-color);\n",
              "      border-bottom-color: var(--fill-color);\n",
              "    }\n",
              "    90% {\n",
              "      border-color: transparent;\n",
              "      border-bottom-color: var(--fill-color);\n",
              "    }\n",
              "  }\n",
              "</style>\n",
              "\n",
              "      <script>\n",
              "        async function quickchart(key) {\n",
              "          const quickchartButtonEl =\n",
              "            document.querySelector('#' + key + ' button');\n",
              "          quickchartButtonEl.disabled = true;  // To prevent multiple clicks.\n",
              "          quickchartButtonEl.classList.add('colab-df-spinner');\n",
              "          try {\n",
              "            const charts = await google.colab.kernel.invokeFunction(\n",
              "                'suggestCharts', [key], {});\n",
              "          } catch (error) {\n",
              "            console.error('Error during call to suggestCharts:', error);\n",
              "          }\n",
              "          quickchartButtonEl.classList.remove('colab-df-spinner');\n",
              "          quickchartButtonEl.classList.add('colab-df-quickchart-complete');\n",
              "        }\n",
              "        (() => {\n",
              "          let quickchartButtonEl =\n",
              "            document.querySelector('#df-65a89291-7e31-4881-a06b-9be9df2afd0d button');\n",
              "          quickchartButtonEl.style.display =\n",
              "            google.colab.kernel.accessAllowed ? 'block' : 'none';\n",
              "        })();\n",
              "      </script>\n",
              "    </div>\n",
              "\n",
              "    </div>\n",
              "  </div>\n"
            ],
            "application/vnd.google.colaboratory.intrinsic+json": {
              "type": "dataframe",
              "variable_name": "df",
              "summary": "{\n  \"name\": \"df\",\n  \"rows\": 400,\n  \"fields\": [\n    {\n      \"column\": \"Destino del reclamo\",\n      \"properties\": {\n        \"dtype\": \"category\",\n        \"num_unique_values\": 5,\n        \"samples\": [\n          \"SOPORTE T\\u00c9CNICO\",\n          \"FINANZAS\",\n          \"RECURSOS HUMANOS\"\n        ],\n        \"semantic_type\": \"\",\n        \"description\": \"\"\n      }\n    },\n    {\n      \"column\": \"Qui\\u00e9n lo resolvi\\u00f3\",\n      \"properties\": {\n        \"dtype\": \"category\",\n        \"num_unique_values\": 5,\n        \"samples\": [\n          \"ADMINISTRADOR TI\",\n          \"MAR\\u00cdA L\\u00d3PEZ\",\n          \"HELP DESK\"\n        ],\n        \"semantic_type\": \"\",\n        \"description\": \"\"\n      }\n    },\n    {\n      \"column\": \"Tipo de reclamo\",\n      \"properties\": {\n        \"dtype\": \"category\",\n        \"num_unique_values\": 5,\n        \"samples\": [\n          \"PROBLEMA DE ACCESO\",\n          \"CONSULTA GENERAL\",\n          \"SOLICITUD DE EQUIPO\"\n        ],\n        \"semantic_type\": \"\",\n        \"description\": \"\"\n      }\n    },\n    {\n      \"column\": \"Fecha del reclamo\",\n      \"properties\": {\n        \"dtype\": \"date\",\n        \"min\": \"2002-02-25 00:00:00\",\n        \"max\": \"2028-09-24 00:00:00\",\n        \"num_unique_values\": 400,\n        \"samples\": [\n          \"2024-07-28 00:00:00\",\n          \"2024-10-07 00:00:00\",\n          \"2024-02-03 00:00:00\"\n        ],\n        \"semantic_type\": \"\",\n        \"description\": \"\"\n      }\n    },\n    {\n      \"column\": \"Estado del reclamo\",\n      \"properties\": {\n        \"dtype\": \"category\",\n        \"num_unique_values\": 4,\n        \"samples\": [\n          \"PENDIENTE\",\n          \"EN PROCESO\",\n          \"CERRADO\"\n        ],\n        \"semantic_type\": \"\",\n        \"description\": \"\"\n      }\n    },\n    {\n      \"column\": \"Grado de satisfacci\\u00f3n\",\n      \"properties\": {\n        \"dtype\": \"number\",\n        \"std\": 1,\n        \"min\": 0,\n        \"max\": 5,\n        \"num_unique_values\": 6,\n        \"samples\": [\n          3,\n          0,\n          4\n        ],\n        \"semantic_type\": \"\",\n        \"description\": \"\"\n      }\n    },\n    {\n      \"column\": \"Dias de resolucion\",\n      \"properties\": {\n        \"dtype\": \"number\",\n        \"std\": 2,\n        \"min\": 1,\n        \"max\": 7,\n        \"num_unique_values\": 7,\n        \"samples\": [\n          6,\n          7,\n          1\n        ],\n        \"semantic_type\": \"\",\n        \"description\": \"\"\n      }\n    }\n  ]\n}"
            }
          },
          "metadata": {},
          "execution_count": 16
        }
      ]
    },
    {
      "cell_type": "markdown",
      "source": [
        "# Limpieza de datos **nulos**\n",
        "\n",
        "Como se puede observar limpiamos los espacios nulos o vacios siguiendo como\n",
        "criterio unificado para las variables cuantitativas de \"Destino del reclamo\", \"Quien lo resolvio\" y \"Tipo de reclamo\" el suplantar esos datos vacios por la moda de cada columna, ya que no son datos criticos y permiten realizar un estudio de los mismos.\n",
        "\n",
        "Asi tambien observamos un patron en cuanto a las fechas de los reclamos, donde los reclamos resultan ser uno por dia desde el primero de enero del 2024, por lo cual decidimos remplazar los datos faltantes con las fechas correspondientes, no cambiamos el formato de fecha dado que el formato csv sigue el estandar *ISO 8601* para el procesamiendo de los mismos."
      ],
      "metadata": {
        "id": "9HZC0MIpdx06"
      }
    },
    {
      "cell_type": "markdown",
      "source": [
        "# VERIFICAR DATOS REPETIDOS"
      ],
      "metadata": {
        "id": "A6JPD1Ryki3N"
      }
    },
    {
      "cell_type": "code",
      "source": [
        "# Aqui verificamos si existe alguna fila que este repetida\n",
        "#creando una serie donde almacena un True por cada fila repetida\n",
        "duplicados = df[df.duplicated(keep=False)]\n",
        "\n",
        "# Mostrar los duplicados si existen\n",
        "print(f\"Cantidad de filas duplicadas: {duplicados.shape[0]}\")\n",
        "duplicados"
      ],
      "metadata": {
        "id": "qA411OKFkuFb",
        "outputId": "08d58fdd-658f-44ca-c9a9-a08c2b312a9f",
        "colab": {
          "base_uri": "https://localhost:8080/",
          "height": 106
        }
      },
      "execution_count": null,
      "outputs": [
        {
          "output_type": "stream",
          "name": "stdout",
          "text": [
            "Cantidad de filas duplicadas: 0\n"
          ]
        },
        {
          "output_type": "execute_result",
          "data": {
            "text/plain": [
              "Empty DataFrame\n",
              "Columns: [Destino del reclamo, Quién lo resolvió, Tipo de reclamo, Fecha del reclamo, Estado del reclamo, Grado de satisfacción, Dias de resolucion]\n",
              "Index: []"
            ],
            "text/html": [
              "\n",
              "  <div id=\"df-47b664c9-a74b-48bc-8f8b-12d3822a98a5\" class=\"colab-df-container\">\n",
              "    <div>\n",
              "<style scoped>\n",
              "    .dataframe tbody tr th:only-of-type {\n",
              "        vertical-align: middle;\n",
              "    }\n",
              "\n",
              "    .dataframe tbody tr th {\n",
              "        vertical-align: top;\n",
              "    }\n",
              "\n",
              "    .dataframe thead th {\n",
              "        text-align: right;\n",
              "    }\n",
              "</style>\n",
              "<table border=\"1\" class=\"dataframe\">\n",
              "  <thead>\n",
              "    <tr style=\"text-align: right;\">\n",
              "      <th></th>\n",
              "      <th>Destino del reclamo</th>\n",
              "      <th>Quién lo resolvió</th>\n",
              "      <th>Tipo de reclamo</th>\n",
              "      <th>Fecha del reclamo</th>\n",
              "      <th>Estado del reclamo</th>\n",
              "      <th>Grado de satisfacción</th>\n",
              "      <th>Dias de resolucion</th>\n",
              "    </tr>\n",
              "  </thead>\n",
              "  <tbody>\n",
              "  </tbody>\n",
              "</table>\n",
              "</div>\n",
              "    <div class=\"colab-df-buttons\">\n",
              "\n",
              "  <div class=\"colab-df-container\">\n",
              "    <button class=\"colab-df-convert\" onclick=\"convertToInteractive('df-47b664c9-a74b-48bc-8f8b-12d3822a98a5')\"\n",
              "            title=\"Convert this dataframe to an interactive table.\"\n",
              "            style=\"display:none;\">\n",
              "\n",
              "  <svg xmlns=\"http://www.w3.org/2000/svg\" height=\"24px\" viewBox=\"0 -960 960 960\">\n",
              "    <path d=\"M120-120v-720h720v720H120Zm60-500h600v-160H180v160Zm220 220h160v-160H400v160Zm0 220h160v-160H400v160ZM180-400h160v-160H180v160Zm440 0h160v-160H620v160ZM180-180h160v-160H180v160Zm440 0h160v-160H620v160Z\"/>\n",
              "  </svg>\n",
              "    </button>\n",
              "\n",
              "  <style>\n",
              "    .colab-df-container {\n",
              "      display:flex;\n",
              "      gap: 12px;\n",
              "    }\n",
              "\n",
              "    .colab-df-convert {\n",
              "      background-color: #E8F0FE;\n",
              "      border: none;\n",
              "      border-radius: 50%;\n",
              "      cursor: pointer;\n",
              "      display: none;\n",
              "      fill: #1967D2;\n",
              "      height: 32px;\n",
              "      padding: 0 0 0 0;\n",
              "      width: 32px;\n",
              "    }\n",
              "\n",
              "    .colab-df-convert:hover {\n",
              "      background-color: #E2EBFA;\n",
              "      box-shadow: 0px 1px 2px rgba(60, 64, 67, 0.3), 0px 1px 3px 1px rgba(60, 64, 67, 0.15);\n",
              "      fill: #174EA6;\n",
              "    }\n",
              "\n",
              "    .colab-df-buttons div {\n",
              "      margin-bottom: 4px;\n",
              "    }\n",
              "\n",
              "    [theme=dark] .colab-df-convert {\n",
              "      background-color: #3B4455;\n",
              "      fill: #D2E3FC;\n",
              "    }\n",
              "\n",
              "    [theme=dark] .colab-df-convert:hover {\n",
              "      background-color: #434B5C;\n",
              "      box-shadow: 0px 1px 3px 1px rgba(0, 0, 0, 0.15);\n",
              "      filter: drop-shadow(0px 1px 2px rgba(0, 0, 0, 0.3));\n",
              "      fill: #FFFFFF;\n",
              "    }\n",
              "  </style>\n",
              "\n",
              "    <script>\n",
              "      const buttonEl =\n",
              "        document.querySelector('#df-47b664c9-a74b-48bc-8f8b-12d3822a98a5 button.colab-df-convert');\n",
              "      buttonEl.style.display =\n",
              "        google.colab.kernel.accessAllowed ? 'block' : 'none';\n",
              "\n",
              "      async function convertToInteractive(key) {\n",
              "        const element = document.querySelector('#df-47b664c9-a74b-48bc-8f8b-12d3822a98a5');\n",
              "        const dataTable =\n",
              "          await google.colab.kernel.invokeFunction('convertToInteractive',\n",
              "                                                    [key], {});\n",
              "        if (!dataTable) return;\n",
              "\n",
              "        const docLinkHtml = 'Like what you see? Visit the ' +\n",
              "          '<a target=\"_blank\" href=https://colab.research.google.com/notebooks/data_table.ipynb>data table notebook</a>'\n",
              "          + ' to learn more about interactive tables.';\n",
              "        element.innerHTML = '';\n",
              "        dataTable['output_type'] = 'display_data';\n",
              "        await google.colab.output.renderOutput(dataTable, element);\n",
              "        const docLink = document.createElement('div');\n",
              "        docLink.innerHTML = docLinkHtml;\n",
              "        element.appendChild(docLink);\n",
              "      }\n",
              "    </script>\n",
              "  </div>\n",
              "\n",
              "\n",
              "  <div id=\"id_8f2a96e1-637d-4a1d-82df-e1622845d2dc\">\n",
              "    <style>\n",
              "      .colab-df-generate {\n",
              "        background-color: #E8F0FE;\n",
              "        border: none;\n",
              "        border-radius: 50%;\n",
              "        cursor: pointer;\n",
              "        display: none;\n",
              "        fill: #1967D2;\n",
              "        height: 32px;\n",
              "        padding: 0 0 0 0;\n",
              "        width: 32px;\n",
              "      }\n",
              "\n",
              "      .colab-df-generate:hover {\n",
              "        background-color: #E2EBFA;\n",
              "        box-shadow: 0px 1px 2px rgba(60, 64, 67, 0.3), 0px 1px 3px 1px rgba(60, 64, 67, 0.15);\n",
              "        fill: #174EA6;\n",
              "      }\n",
              "\n",
              "      [theme=dark] .colab-df-generate {\n",
              "        background-color: #3B4455;\n",
              "        fill: #D2E3FC;\n",
              "      }\n",
              "\n",
              "      [theme=dark] .colab-df-generate:hover {\n",
              "        background-color: #434B5C;\n",
              "        box-shadow: 0px 1px 3px 1px rgba(0, 0, 0, 0.15);\n",
              "        filter: drop-shadow(0px 1px 2px rgba(0, 0, 0, 0.3));\n",
              "        fill: #FFFFFF;\n",
              "      }\n",
              "    </style>\n",
              "    <button class=\"colab-df-generate\" onclick=\"generateWithVariable('duplicados')\"\n",
              "            title=\"Generate code using this dataframe.\"\n",
              "            style=\"display:none;\">\n",
              "\n",
              "  <svg xmlns=\"http://www.w3.org/2000/svg\" height=\"24px\"viewBox=\"0 0 24 24\"\n",
              "       width=\"24px\">\n",
              "    <path d=\"M7,19H8.4L18.45,9,17,7.55,7,17.6ZM5,21V16.75L18.45,3.32a2,2,0,0,1,2.83,0l1.4,1.43a1.91,1.91,0,0,1,.58,1.4,1.91,1.91,0,0,1-.58,1.4L9.25,21ZM18.45,9,17,7.55Zm-12,3A5.31,5.31,0,0,0,4.9,8.1,5.31,5.31,0,0,0,1,6.5,5.31,5.31,0,0,0,4.9,4.9,5.31,5.31,0,0,0,6.5,1,5.31,5.31,0,0,0,8.1,4.9,5.31,5.31,0,0,0,12,6.5,5.46,5.46,0,0,0,6.5,12Z\"/>\n",
              "  </svg>\n",
              "    </button>\n",
              "    <script>\n",
              "      (() => {\n",
              "      const buttonEl =\n",
              "        document.querySelector('#id_8f2a96e1-637d-4a1d-82df-e1622845d2dc button.colab-df-generate');\n",
              "      buttonEl.style.display =\n",
              "        google.colab.kernel.accessAllowed ? 'block' : 'none';\n",
              "\n",
              "      buttonEl.onclick = () => {\n",
              "        google.colab.notebook.generateWithVariable('duplicados');\n",
              "      }\n",
              "      })();\n",
              "    </script>\n",
              "  </div>\n",
              "\n",
              "    </div>\n",
              "  </div>\n"
            ],
            "application/vnd.google.colaboratory.intrinsic+json": {
              "type": "dataframe",
              "variable_name": "duplicados",
              "repr_error": "Out of range float values are not JSON compliant: nan"
            }
          },
          "metadata": {},
          "execution_count": 17
        }
      ]
    },
    {
      "cell_type": "markdown",
      "source": [
        "\n",
        "\n",
        "---\n",
        "Como podemos visualizar no tenemos datos repetidos, para nosotros un dato repetido es cuando toda la fila completa esta repetida, dado que con que difiera un solo dato de cada fila ya hace que sea un reclamo totalmente diferente, los reclamos pueden compartir sector, personal asignado, incluso calificacion, pero despues de analizar llegamos a la conclusion que no hay dato repetido.\n",
        "\n",
        "\n",
        "---\n",
        "\n",
        "\n"
      ],
      "metadata": {
        "id": "dsr7TpGClVJD"
      }
    },
    {
      "cell_type": "markdown",
      "source": [
        "# **Datos erroneos**\n",
        "\n",
        "Para verificar datos erroneos, nos adentramos a analizar el funcionamineto GRI, Gestor de Reclamos Internos. Se determina para cada columna, criterios respaldados por la documentacion registrada. Recorreremos las variables de cada columna que esten relacionadas, para verificar la congruencia de los datos. La finalidad es detectar datos inconsistentes , de ser posible, se suplantaran, de lo contrario seran desestimados.\n",
        "\n",
        "\n",
        "LIMPIEZA DE VARIABLES CUANTITATIVAS\n",
        "\n",
        "* Dias de Resolucion y estado de reclamo: como se determino anteriormente, esta\n",
        "columnaesta relacionada con  estado del reclamo, Si contiene valor , el estado deberia estar cerrado\n",
        "\n",
        "* Grado de satisfaccion y estado del reclamo: como se determino anteriormente, esta columna esta relacionada con estado del reclamo, si contiene valor, el estado deberia estar cerrado.\n",
        "\n",
        "*  **Destino de reclamo y Quien lo resolvio**: se observan algunas inconsistenacias, pero no tenemos documentacion sufciciente para hacer las correcciones, y se considera que la relacion de estas variables no son indispensables para la evaluacion del grado de satisfaccion.\n",
        "\n",
        "*  **Destino del reclamo y tipo de reclamo**: aunque se desconoce con exactidud el criterio del GRI, se aplicara un criterio basado en el disernimiento y buen juicio del equipo. El siguiente se detalla a continuacion:\n",
        "\n",
        "\n",
        "\n",
        "\n",
        "**AREAS**                   /                    **TIPO DE RECLAMO**\n",
        "\n",
        "*SOPORTE TÉCNICO* : PROBLEMA DE ACCESO\n",
        "\n",
        "*SISTEMAS*: ACTUALIZACIÓN DE SOFTWARE\n",
        "\n",
        "*INFRAESTRUCTURA* :ERROR DE SISTEMA\n",
        "\n",
        "*RECURSOS HUMANOS*: SOLICITUD DE EQUIPO\n",
        "\n",
        "*FINANZAS* : CONSULTA GENERAL\n"
      ],
      "metadata": {
        "id": "tjWp6yw0h_Ba"
      }
    },
    {
      "cell_type": "code",
      "source": [
        "\n",
        "# PRIMER FILTRO: ANTES DE LA LIMPIEZA PARA VERIFICAR CUANTOS DATOS ERRONEOS TENEMOS EN AREAS DE RRHH y FINANZAS\n",
        "\n",
        "\n",
        "criterio_correspondencia_inicial = {\n",
        "    'RECURSOS HUMANOS': ['SOLICITUD DE EQUIPO', 'CONSULTA GENERAL'],\n",
        "    'FINANZAS': ['CONSULTA GENERAL']\n",
        "}\n",
        "\n",
        "# Esta funcion identifica las filas donde el 'Tipo de reclamo' no corresponde con el criterio asignado a cada area\n",
        "\n",
        "filas_no_correspondientes_inicial_rrh_finanzas = df[\n",
        "    (df['Destino del reclamo'].isin(['RECURSOS HUMANOS', 'FINANZAS'])) &\n",
        "    (df.apply(\n",
        "        lambda row: row['Tipo de reclamo'] not in criterio_correspondencia_inicial.get(row['Destino del reclamo'], []),\n",
        "        axis=1\n",
        "    ))\n",
        "]\n",
        "\n",
        "# Aqui contamos la cantidad de datos no correspondientes en RRHH y Finanzas ANTES de la limpieza\n",
        "cantidad_no_correspondientes_inicial_rrh_finanzas = len(filas_no_correspondientes_inicial_rrh_finanzas)\n",
        "print(f\"Cantidad de datos no correspondientes en 'Tipo de reclamo' para RRHH y Finanzas ANTES de la limpieza: {cantidad_no_correspondientes_inicial_rrh_finanzas}\")\n",
        "\n",
        "\n",
        "# Limpeza de RRHH y Finanzas, para ello asignaremos los datos que corresponden al criterio en cada cariable segun corresponda.\n",
        "\n",
        "# Asignar solicitud de empleo donde 'Destino del reclamo' sea 'RECURSOS HUMANOS'\n",
        "df.loc[df['Destino del reclamo'] == 'RECURSOS HUMANOS', 'Tipo de reclamo'] = 'SOLICITUD DE EQUIPO'\n",
        "\n",
        "# Asignar 'CONSULTA GENERAL'donde 'Destino del reclamo' sea 'FINANZAS'\n",
        "df.loc[df['Destino del reclamo'] == 'FINANZAS', 'Tipo de reclamo'] = 'CONSULTA GENERAL'\n",
        "\n",
        "# Verificacion de la limpieza: aplicamos un segundo filtro, esperamos que el conteo de las filas que no corresponden sea cero.\n",
        "\n",
        "criterio_correspondencia_despues_limpieza = {\n",
        "    'RECURSOS HUMANOS': ['SOLICITUD DE EQUIPO'],\n",
        "    'FINANZAS': ['CONSULTA GENERAL']\n",
        "}\n",
        "\n",
        "filas_no_correspondientes_despues_limpieza_rrh_finanzas = df[\n",
        "    (df['Destino del reclamo'].isin(['RECURSOS HUMANOS', 'FINANZAS'])) &\n",
        "    (df.apply(\n",
        "        lambda row: row['Tipo de reclamo'] not in criterio_correspondencia_despues_limpieza.get(row['Destino del reclamo'], []),\n",
        "        axis=1\n",
        "    ))\n",
        "]\n",
        "\n",
        "# Se imprime resultado\n",
        "cantidad_no_correspondientes_despues_limpieza_rrh_finanzas = len(filas_no_correspondientes_despues_limpieza_rrh_finanzas)\n",
        "print(f\"Cantidad de datos no correspondientes en 'Tipo de reclamo' para RRHH y Finanzas DESPUÉS de la limpieza: {cantidad_no_correspondientes_despues_limpieza_rrh_finanzas}\")\n"
      ],
      "metadata": {
        "id": "bA305d0VajQ8",
        "outputId": "01202978-aa5d-4dd4-d719-8678a3ca0cb6",
        "colab": {
          "base_uri": "https://localhost:8080/"
        }
      },
      "execution_count": null,
      "outputs": [
        {
          "output_type": "stream",
          "name": "stdout",
          "text": [
            "Cantidad de datos no correspondientes en 'Tipo de reclamo' para RRHH y Finanzas ANTES de la limpieza: 84\n",
            "Cantidad de datos no correspondientes en 'Tipo de reclamo' para RRHH y Finanzas DESPUÉS de la limpieza: 0\n"
          ]
        }
      ]
    },
    {
      "cell_type": "markdown",
      "source": [
        "**Se repite el proceso anterior con las areas restantes.**"
      ],
      "metadata": {
        "id": "j15Eixr1dLyK"
      }
    },
    {
      "cell_type": "code",
      "source": [
        "\n",
        "# PRIMER FILTRO: ANTES DE LA LIMPIEZA PARA VERIFICAR CUANTOS DATOS ERRONEOS TENEMOS  AREAS SOPORTE TECNICO, SISTEMAS E INFRAESTRUCTURA\n",
        "criterio_correspondencia_otras_areas_inicial = {\n",
        "    'SOPORTE TÉCNICO': ['PROBLEMA DE ACCESO'],\n",
        "    'SISTEMAS': [ 'ACTUALIZACIÓN DE SOFTWARE'],\n",
        "    'INFRAESTRUCTURA': ['ERROR DE SISTEMA']\n",
        "}\n",
        "\n",
        "\n",
        "# Esta funcion identifica las filas donde el 'Tipo de reclamo' no corresponde con el criterio asignado a cada area\n",
        "filas_no_correspondientes_otras_areas_inicial = df[\n",
        "    (df['Destino del reclamo'].isin(['SOPORTE TÉCNICO', 'SISTEMAS', 'INFRAESTRUCTURA'])) &\n",
        "    (df.apply(\n",
        "        lambda row: row['Tipo de reclamo'] not in criterio_correspondencia_otras_areas_inicial.get(row['Destino del reclamo'], []),\n",
        "        axis=1\n",
        "    ))\n",
        "]\n",
        "\n",
        "# Mostrar la cantidad de datos no correspondientes en las otras áreas ANTES de la limpieza\n",
        "cantidad_no_correspondientes_otras_areas_inicial = len(filas_no_correspondientes_otras_areas_inicial)\n",
        "print(f\"Cantidad de datos no correspondientes en 'Tipo de reclamo' para Soporte Técnico, Sistemas, Infraestructura ANTES de la limpieza: {cantidad_no_correspondientes_otras_areas_inicial}\")\n",
        "\n",
        "# Limpeza de Soporte Técnico, Sistemas, Infraestructura , para ello asignaremos los datos que corresponden al criterio en cada Variable segun corresponda.\n",
        "\n",
        "# Asignar solicitud de empleo donde 'Destino del reclamo' sea 'SOPORTE TÉCNICO'\n",
        "df.loc[df['Destino del reclamo'] == 'SOPORTE TÉCNICO', 'Tipo de reclamo'] = 'PROBLEMA DE ACCESO'\n",
        "\n",
        "# Asignar 'CONSULTA GENERAL'donde 'Destino del reclamo' sea 'SISTEMAS'\n",
        "df.loc[df['Destino del reclamo'] == 'SISTEMAS', 'Tipo de reclamo'] = 'ACTUALIZACIÓN DE SOFTWARE'\n",
        "\n",
        "# Asignar 'CONSULTA GENERAL'donde 'Destino del reclamo' sea 'SISTEMAS'\n",
        "df.loc[df['Destino del reclamo'] == 'INFRAESTRUCTURA', 'Tipo de reclamo'] = 'ERROR DE SISTEMA'\n",
        "\n",
        "# Verificacion de la limpieza: aplicamos un segundo filtro, esperamos que el conteo de las filas que no corresponden sea cero.\n",
        "\n",
        "criterio_correspondencia_despues_limpieza = {\n",
        "    'SOPORTE TÉCNICO': ['PROBLEMA DE ACCESO'],\n",
        "    'SISTEMAS': [ 'ACTUALIZACIÓN DE SOFTWARE'],\n",
        "    'INFRAESTRUCTURA': ['ERROR DE SISTEMA']\n",
        "}\n",
        "\n",
        "filas_no_correspondientes_despues_limpieza = df[\n",
        "    (df['Destino del reclamo'].isin([ 'SOPORTE TÉCNICO', 'SISTEMAS','INFRAESTRUCTURA' ])) &\n",
        "    (df.apply(\n",
        "        lambda row: row['Tipo de reclamo'] not in criterio_correspondencia_despues_limpieza.get(row['Destino del reclamo'], []),\n",
        "        axis=1\n",
        "    ))\n",
        "]\n",
        "\n",
        "# Se imprime resultado\n",
        "# Corregido el nombre de la variable y el texto del print para reflejar las áreas correctas\n",
        "cantidad_no_correspondientes_despues_limpieza_otras_areas = len(filas_no_correspondientes_despues_limpieza)\n",
        "print(f\"Cantidad de datos no correspondientes en Soporte Técnico, Sistemas, Infraestructura DESPUÉS de la limpieza: {cantidad_no_correspondientes_despues_limpieza_otras_areas}\")\n"
      ],
      "metadata": {
        "id": "dM_43L1FdT18",
        "outputId": "1e6bc0df-a754-4a97-cc3d-a5fc9091907f",
        "colab": {
          "base_uri": "https://localhost:8080/"
        }
      },
      "execution_count": null,
      "outputs": [
        {
          "output_type": "stream",
          "name": "stdout",
          "text": [
            "Cantidad de datos no correspondientes en 'Tipo de reclamo' para Soporte Técnico, Sistemas, Infraestructura ANTES de la limpieza: 215\n",
            "Cantidad de datos no correspondientes en Soporte Técnico, Sistemas, Infraestructura DESPUÉS de la limpieza: 0\n"
          ]
        }
      ]
    },
    {
      "cell_type": "markdown",
      "source": [
        "**Observaciones:**\n",
        "\n",
        "Este proceso fue realizado porque los datos erroneos superaban un 10 %  del total de datos. Como se hablo en clases, en un caso real, no podriamos continuar con el analisis. Estos criterios fueron definidos en forma grupal, y este codigo fue investigado en documentacion proporcionada por el docente, y corregido por un asistente de inteligencia artificial, para poder continuar el flujo de la evidencia."
      ],
      "metadata": {
        "id": "3vK2hQuag1wk"
      }
    },
    {
      "cell_type": "markdown",
      "source": [],
      "metadata": {
        "id": "y9J3pHEcg1tM"
      }
    },
    {
      "cell_type": "markdown",
      "source": [
        "# Variables cuantitativas:\n",
        "\n",
        "LIMPIEZA DE ESTADO DE RECLAMO CON RESPECTO VARIABLES CUANTITATIVAS\n",
        "\n",
        "Días de Resolución y Estado del reclamo:\n",
        "\n",
        "Como se determinó anteriormente, la columna Días de Resolución está relacionada con  Estado del reclamo. Si aquella contiene un valor, el estado debería ser CERRADO\n",
        "\n",
        "Igualmente, la columna Grado de satisfaccion está relacionada con Estado del reclamo, si aquella contiene valor, el estado deberia ser CERRADO."
      ],
      "metadata": {
        "id": "_LWd2CaPxSGd"
      }
    },
    {
      "cell_type": "code",
      "source": [
        "# Verificar datos donde 'Dias de resolucion' tiene valor pero el estado NO es 'CERRADO'\n",
        "# Y Contar filas donde 'Dias de resolucion' NO es nulo Y 'Estado del reclamo' NO es 'CERRADO'\n",
        "filas_con_dias_sin_cerrar = df[\n",
        "    (df['Dias de resolucion'].notna()) &\n",
        "    (df['Estado del reclamo'] != 'CERRADO')\n",
        "]\n",
        "\n",
        "cantidad_con_dias_sin_cerrar = len(filas_con_dias_sin_cerrar)\n",
        "print(f\"Cantidad de filas con 'Dias de resolucion' pero estado NO 'CERRADO': {cantidad_con_dias_sin_cerrar}\")\n",
        "\n",
        "#REPETIMOS EL PROCEDIMIENTO PARA GRADO DESATISFACCION\n",
        "# Verificar datos donde 'Grado de satisfacción' tiene valor pero el estado NO es 'CERRADO'\n",
        "# Contar filas donde 'Grado de satisfacción' NO es nulo Y 'Estado del reclamo' NO es 'CERRADO'\n",
        "filas_con_calificacion_sin_cerrar = df[\n",
        "    (df['Grado de satisfacción'].notna()) &\n",
        "    (df['Estado del reclamo'] != 'CERRADO')\n",
        "]\n",
        "\n",
        "cantidad_con_calificacion_sin_cerrar = len(filas_con_calificacion_sin_cerrar)\n",
        "print(f\"Cantidad de filas con 'Grado de satisfacción' pero estado NO 'CERRADO': {cantidad_con_calificacion_sin_cerrar}\")\n",
        "\n",
        "\n",
        "# Limpieza para corregir 'Estado del reclamo'\n",
        "\n",
        "# Identificar las filas con logica donde:('Dias de resolucion' tiene valor) O ('Grado de satisfacción' tiene valor Y es mayor que 0)\n",
        "# Y donde el 'Estado del reclamo' NO es 'CERRADO'\n",
        "condicion_corregir_estado = (\n",
        "    (df['Dias de resolucion'].notna()) |  # Si Dias de resolucion tiene valor\n",
        "    ((df['Grado de satisfacción'].notna()) & (df['Grado de satisfacción'] > 0)) # O si Grado de satisfacción tiene valor Y es mayor que 0\n",
        ") & (df['Estado del reclamo'] != 'CERRADO') # Y el estado actual es diferente de CERRADO\n",
        "\n",
        "# Para las filas que cumplen la condición, establecer el 'Estado del reclamo' a 'CERRADO'\n",
        "df.loc[condicion_corregir_estado, 'Estado del reclamo'] = 'CERRADO'\n",
        "\n",
        "\n"
      ],
      "metadata": {
        "id": "GG8gPZGqQtJd",
        "outputId": "2cc49068-e3fd-45f0-95e5-828aa9c025e9",
        "colab": {
          "base_uri": "https://localhost:8080/"
        }
      },
      "execution_count": null,
      "outputs": [
        {
          "output_type": "stream",
          "name": "stdout",
          "text": [
            "Cantidad de filas con 'Dias de resolucion' pero estado NO 'CERRADO': 0\n",
            "Cantidad de filas con 'Grado de satisfacción' pero estado NO 'CERRADO': 0\n"
          ]
        }
      ]
    },
    {
      "cell_type": "markdown",
      "source": [
        "**VERIFICACIÓN DE VARIABLES CUANTITATIVAS**\n",
        "\n",
        "Se analizan:** GRADO DE SATISFACCIÓN Y DÍAS DE RESOLUCIÓN**"
      ],
      "metadata": {
        "id": "M1tW_VPM3pAU"
      }
    },
    {
      "cell_type": "code",
      "source": [
        "print(\"\\nDataFrame después de las correcciones:\")\n",
        "print(df.head())\n",
        "\n",
        "# Contar los reclamos que están \"CERRADO\" pero que tienen el 'Grado de satisfacción' nulo o 0\n",
        "reclamos_cerrados_sin_calificacion = df[\n",
        "    (df['Estado del reclamo'] == 'CERRADO') &\n",
        "    ((df['Grado de satisfacción'].isnull()) | (df['Grado de satisfacción'] == 0))\n",
        "]\n",
        "\n",
        "cantidad_cerrados_sin_calificacion = len(reclamos_cerrados_sin_calificacion)\n",
        "\n",
        "print(f\"Cantidad de reclamos CERRADOS sin 'Grado de satisfacción' (0): {cantidad_cerrados_sin_calificacion}\")\n"
      ],
      "metadata": {
        "id": "33zElE1Grc_4",
        "outputId": "173cec95-96f4-4583-95fe-a35c200c33f5",
        "colab": {
          "base_uri": "https://localhost:8080/"
        }
      },
      "execution_count": null,
      "outputs": [
        {
          "output_type": "stream",
          "name": "stdout",
          "text": [
            "\n",
            "DataFrame después de las correcciones:\n",
            "  Destino del reclamo Quién lo resolvió      Tipo de reclamo  \\\n",
            "0     INFRAESTRUCTURA        JUAN PÉREZ     ERROR DE SISTEMA   \n",
            "1     SOPORTE TÉCNICO        JUAN PÉREZ   PROBLEMA DE ACCESO   \n",
            "2    RECURSOS HUMANOS  ADMINISTRADOR TI  SOLICITUD DE EQUIPO   \n",
            "3     INFRAESTRUCTURA        JUAN PÉREZ     ERROR DE SISTEMA   \n",
            "4     SOPORTE TÉCNICO         HELP DESK   PROBLEMA DE ACCESO   \n",
            "\n",
            "  Fecha del reclamo Estado del reclamo  Grado de satisfacción  \\\n",
            "0        2024-01-01            CERRADO                      3   \n",
            "1        2024-01-02            CERRADO                      0   \n",
            "2        2024-01-03            CERRADO                      2   \n",
            "3        2024-01-04            CERRADO                      0   \n",
            "4        2024-01-05            CERRADO                      5   \n",
            "\n",
            "   Dias de resolucion  \n",
            "0                   6  \n",
            "1                   7  \n",
            "2                   5  \n",
            "3                   2  \n",
            "4                   5  \n",
            "Cantidad de reclamos CERRADOS sin 'Grado de satisfacción' (nulo o 0): 227\n"
          ]
        }
      ]
    },
    {
      "cell_type": "code",
      "source": [
        "# Filtra los reclamos que están cerrados y tienen 0 días de resolución\n",
        "reclamos_cerrados_dias_cero = df[\n",
        "    (df['Estado del reclamo'] == 'CERRADO') &\n",
        "    (df['Dias de resolucion'] == 0)\n",
        "]\n",
        "\n",
        "# Muestra la cantidad de reclamos encontrados\n",
        "cantidad_cerrados_dias_cero = len(reclamos_cerrados_dias_cero)\n",
        "\n",
        "print(f\"Cantidad de reclamos CERRADOS con 0 días de resolución: {cantidad_cerrados_dias_cero}\")\n",
        "\n",
        "# Opcional: Mostrar los reclamos encontrados\n",
        "print(\"\\nReclamos CERRADOS con 0 días de resolución:\")\n",
        "print(reclamos_cerrados_dias_cero)"
      ],
      "metadata": {
        "colab": {
          "base_uri": "https://localhost:8080/"
        },
        "id": "bE9w9p1Y3E5l",
        "outputId": "9e4fbd49-a6e9-4b78-ca9f-d1b91e84a10a"
      },
      "execution_count": 26,
      "outputs": [
        {
          "output_type": "stream",
          "name": "stdout",
          "text": [
            "Cantidad de reclamos CERRADOS con 0 días de resolución: 0\n",
            "\n",
            "Reclamos CERRADOS con 0 días de resolución:\n",
            "Empty DataFrame\n",
            "Columns: [Destino del reclamo, Quién lo resolvió, Tipo de reclamo, Fecha del reclamo, Estado del reclamo, Grado de satisfacción, Dias de resolucion]\n",
            "Index: []\n"
          ]
        }
      ]
    },
    {
      "cell_type": "markdown",
      "source": [
        "**Conclucion**\n",
        "\n",
        "Tras limpiar los datos erroneos, verificamos la columna de grado de satisfaccion, nos encontramos con valores de 0 para reclamos cerrados. Se determina que estos datos no son erroneos, sino que en estos casos los usuarios se abstuvieron de emitir opnion.\n",
        "\n",
        "En el caso de la columna dias de resolucion, se determino, que al contener dias de resolucion, el estado deberia a cambiar a cerrado. No se detectan casos Cerrados sin dias de resolucion, por lo que se verifica que los datos estan correctos."
      ],
      "metadata": {
        "id": "x58Off6vr7Cr"
      }
    },
    {
      "cell_type": "markdown",
      "source": [
        "# **CONSIGNA 2**\n",
        "\n",
        " En cuanto al uso de la librería MatPlotLib se propone realizar al menos 4 gráficos que guarden relación con los datos. Como por ejemplo, realizar los gráficos que correspondan según las variables analizadas.  \n",
        "Por ejemplo puede usar uno tipo torta para reflejar los porcentajes dentro de una variable categórica. Los gráficos deben estar correctamente etiquetados para que se pueda observar los datos que reflejan.\n",
        "\n",
        "\n"
      ],
      "metadata": {
        "id": "FMFlQc8k4S-u"
      }
    },
    {
      "cell_type": "markdown",
      "source": [
        "**Que area tiene mejor puntuacion en satisfaccion en un periodo determinado**\n",
        "\n",
        "Elegimos el mes de diciembre para evaluar al area mejor puntuada.\n",
        "\n",
        "Para ello, necesitamos filtrar los reclamos del mes de diciembre, que tengan calificacion entre 1 y 5.\n",
        "luego debemos saber el promedio del grado de satisfaccion de cada area. Luego construimos el grafico de puntos para representar."
      ],
      "metadata": {
        "id": "-Xtf2rtm5R8f"
      }
    },
    {
      "cell_type": "code",
      "source": [
        "import pandas as pd\n",
        "import matplotlib.pyplot as plt\n",
        "\n",
        "\n",
        "# Filtramos los reclamos del mes de diciembre\n",
        "\n",
        "reclamos_diciembre = df[df['Fecha del reclamo'].dt.month == 12].copy()\n",
        "\n",
        "# 1-Tomamos los reclamos de diciembre con calificación de 1 a 5\n",
        "# 2-Agrupar por 'Destino del reclamo' y calcular el promedio del 'Grado de satisfaccion'\n",
        "\n",
        "\n",
        "satisfaccion_diciembre_evaluada = reclamos_diciembre[(reclamos_diciembre['Grado de satisfacción'] >= 1) & (reclamos_diciembre['Grado de satisfacción'] <= 5)].copy()\n",
        "\n",
        "calificacion_por_area_diciembre = satisfaccion_diciembre_evaluada.groupby('Destino del reclamo')['Grado de satisfacción'].mean().reset_index()\n",
        "\n",
        "# colocamos nombres las columnas para ser mas claros en el grafico\n",
        "\n",
        "calificacion_por_area_diciembre.columns = ['Área de Reclamo', 'Promedio de Satisfacción (1-5) en Diciembre']\n",
        "\n",
        "# Ordenamos por promedio de satisfacción en orden descendente para el gráfico\n",
        "calificacion_por_area_diciembre_ordenada = calificacion_por_area_diciembre.sort_values(by='Promedio de Satisfacción (1-5) en Diciembre', ascending=False)\n",
        "\n",
        "# Gráfico de puntos\n",
        "plt.figure(figsize=(10, 6))\n",
        "plt.plot(calificacion_por_area_diciembre_ordenada['Área de Reclamo'], calificacion_por_area_diciembre_ordenada['Promedio de Satisfacción (1-5) en Diciembre'], 'o-', color='green')\n",
        "\n",
        "# Configuracion del gráfico\n",
        "plt.xlabel('Área de Reclamo')\n",
        "plt.ylabel('Promedio de Satisfacción (1-5)')\n",
        "plt.title('Promedio de Satisfacción por Área en Diciembre (calificaciones de 1 a 5)')\n",
        "plt.ylim(1, 5) # Rango del eje Y para reflejar la escala de satisfacción\n",
        "plt.show()#MOSTRAR GRAFICO\n",
        "\n",
        "# Observacion.\n",
        "mejor_area_diciembre = calificacion_por_area_diciembre_ordenada.iloc[0]\n",
        "print(f\"\\nEl área con el mejor promedio de satisfacción (1-5) en Diciembre es '{mejor_area_diciembre['Área de Reclamo']}' con un promedio de {mejor_area_diciembre['Promedio de Satisfacción (1-5) en Diciembre']:.2f}\")"
      ],
      "metadata": {
        "id": "Mnqhhx5nFE6D",
        "outputId": "189ccf74-ba7f-45bf-b50f-d6a05b05f582",
        "colab": {
          "base_uri": "https://localhost:8080/",
          "height": 602
        }
      },
      "execution_count": 30,
      "outputs": [
        {
          "output_type": "display_data",
          "data": {
            "text/plain": [
              "<Figure size 1000x600 with 1 Axes>"
            ],
            "image/png": "[encoded data removed]"
          },
          "metadata": {}
        },
        {
          "output_type": "stream",
          "name": "stdout",
          "text": [
            "\n",
            "El área con el mejor promedio de satisfacción (1-5) en Diciembre es 'SOPORTE TÉCNICO' con un promedio de 4.33\n"
          ]
        }
      ]
    }
  ]
}