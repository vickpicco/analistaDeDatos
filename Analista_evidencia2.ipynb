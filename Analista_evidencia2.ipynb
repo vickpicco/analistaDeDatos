{
  "nbformat": 4,
  "nbformat_minor": 0,
  "metadata": {
    "colab": {
      "provenance": [],
      "include_colab_link": true
    },
    "kernelspec": {
      "name": "python3",
      "display_name": "Python 3"
    },
    "language_info": {
      "name": "python"
    }
  },
  "cells": [
    {
      "cell_type": "markdown",
      "metadata": {
        "id": "view-in-github",
        "colab_type": "text"
      },
      "source": [
        "<a href=\"https://colab.research.google.com/github/vickpicco/analistaDeDatos/blob/main/Analista_evidencia2.ipynb\" target=\"_parent\"><img src=\"https://colab.research.google.com/assets/colab-badge.svg\" alt=\"Open In Colab\"/></a>"
      ]
    },
    {
      "cell_type": "code",
      "execution_count": null,
      "metadata": {
        "id": "pJBSyem12ui8"
      },
      "outputs": [],
      "source": []
    },
    {
      "cell_type": "markdown",
      "source": [
        "# Descripción del Proyecto\n",
        "\n",
        "Análisis del grado de satisfacción de los usuarios en el funcionamiento de un gestor de reclamos internos: Evaluación basada en métricas de percepción y desempeño durante un período.\n",
        "\n",
        "Este proyecto busca establecer un modelo de evaluación del grado de satisfacción de los usuarios en el funcionamiento de un gestor de reclamos internos, con el fin de optimizar su desempeño y mejorar la experiencia de los empleados. A través del análisis de datos, se pretende obtener insights que permitan identificar oportunidades de mejora y garantizar una gestión eficiente y transparente de los reclamos dentro de la organización.\n",
        "\n",
        "## Objetivo principal:\n",
        "\n",
        "Analizar el grado de satisfacción de los usuarios respecto al funcionamiento del gestor de reclamos internos, mediante la recopilación y procesamiento de datos relevantes, con el propósito de detectar oportunidades de mejora y contribuir a la optimización de la gestión organizacional en un periodo específico.\n",
        "\n",
        "##Objetivo Específicos:\n",
        "\n",
        "\n",
        "1.   Recolectar datos sobre la percepción y satisfacción de los usuarios del gestor de reclamos internos mediante encuestas de satisfacción.\n",
        "\n",
        "2.   Procesar la información obtenida aplicando técnicas de análisis estadístico y exploración de datos para identificar patrones y tendencias.\n",
        "\n",
        "3.   Identificar áreas de mejora en el funcionamiento del sistema, considerando los puntos críticos señalados por los usuarios.\n",
        "\n",
        "4.   Proponer estrategias de optimización basadas en los hallazgos del análisis para mejorar la eficiencia del gestor de reclamos internos.\n",
        "\n",
        "5.   Comunicar los resultados y recomendaciones a la empresa de manera clara y fundamentada para su posible implementación.\n",
        "\n",
        "## Integrantes del Equipo de Trabajo:\n",
        "\n",
        "\n",
        "\n",
        "*   Cabrera, Gabriel (GitHub: cjuangab)\n",
        "\n",
        "*   Pereyra, Hebe. (GitHub: PereyraHebe)\n",
        "\n",
        "*   Picco, Victoria. (GitHub: vickpicco)\n",
        "\n",
        "*   Santarena, Florencia. (GitHub: mfsantarena)\n",
        "\n",
        "*   Suárez, Mariela. (GitHub: MarielarosaSZ)\n",
        "\n"
      ],
      "metadata": {
        "id": "2yX2jivAbkEU"
      }
    },
    {
      "cell_type": "markdown",
      "source": [
        "#EVIDENCIA N°2\n"
      ],
      "metadata": {
        "id": "yH48vNk7GLjS"
      }
    },
    {
      "cell_type": "markdown",
      "source": [
        "#####Creado el notebook, importamos los datos"
      ],
      "metadata": {
        "id": "Sq1MqmZ5GUXO"
      }
    },
    {
      "cell_type": "code",
      "source": [
        "import pandas as pd\n",
        "url = \"https://raw.githubusercontent.com/vickpicco/analistaDeDatos/refs/heads/main/Datos/dataset_reclamos_internos_modificado.csv\"\n",
        "df = pd.read_csv(url)\n",
        "df.head(10)\n"
      ],
      "metadata": {
        "colab": {
          "base_uri": "https://localhost:8080/",
          "height": 432
        },
        "id": "HQkA_rvBPyRE",
        "outputId": "6705f648-f201-4000-f021-5778ca15a123"
      },
      "execution_count": null,
      "outputs": [
        {
          "output_type": "execute_result",
          "data": {
            "text/plain": [
              "  Destino del reclamo Quién lo resolvió                Tipo de reclamo  \\\n",
              "0     INFRAESTRUCTURA               NaN      Actualización de software   \n",
              "1     soporte técnico               NaN           problema de acceso     \n",
              "2    Recursos humanos  Administrador TI          Solicitud de equipo     \n",
              "3     Infraestructura      Juan Pérez               Problema de acceso   \n",
              "4     S0p0rte técnic0         help desk    Actualización de software     \n",
              "5     Soporte técnico        juan pérez            Solicitud de equipo   \n",
              "6     Infraestructura  Administrador TI               ERROR DE SISTEMA   \n",
              "7    Recurs0s human0s   SOPORTE NIVEL 1                            NaN   \n",
              "8     Soporte técnico         Help Desk               Error de sistema   \n",
              "9                 NaN  ADMINISTRADOR TI               Consulta general   \n",
              "\n",
              "  Fecha del reclamo Estado del reclamo  Grado de satisfacción  \n",
              "0               NaN          Cerrado                        3  \n",
              "1               NaN          Pendiente                      0  \n",
              "2        2024-01-03           resuelto                      2  \n",
              "3        2024-01-04         EN PROCESO                      0  \n",
              "4        2024-01-05           RESUELTO                      5  \n",
              "5        2024/01/06                NaN                      0  \n",
              "6        2024-01-07          PENDIENTE                      0  \n",
              "7        2024-01-08         RESUELTO                        5  \n",
              "8        2024-01-09          Pendiente                      0  \n",
              "9        2024-01-10          Pendiente                      0  "
            ],
            "text/html": [
              "\n",
              "  <div id=\"df-18edbfc8-317a-4374-9714-b21db2de0b99\" class=\"colab-df-container\">\n",
              "    <div>\n",
              "<style scoped>\n",
              "    .dataframe tbody tr th:only-of-type {\n",
              "        vertical-align: middle;\n",
              "    }\n",
              "\n",
              "    .dataframe tbody tr th {\n",
              "        vertical-align: top;\n",
              "    }\n",
              "\n",
              "    .dataframe thead th {\n",
              "        text-align: right;\n",
              "    }\n",
              "</style>\n",
              "<table border=\"1\" class=\"dataframe\">\n",
              "  <thead>\n",
              "    <tr style=\"text-align: right;\">\n",
              "      <th></th>\n",
              "      <th>Destino del reclamo</th>\n",
              "      <th>Quién lo resolvió</th>\n",
              "      <th>Tipo de reclamo</th>\n",
              "      <th>Fecha del reclamo</th>\n",
              "      <th>Estado del reclamo</th>\n",
              "      <th>Grado de satisfacción</th>\n",
              "    </tr>\n",
              "  </thead>\n",
              "  <tbody>\n",
              "    <tr>\n",
              "      <th>0</th>\n",
              "      <td>INFRAESTRUCTURA</td>\n",
              "      <td>NaN</td>\n",
              "      <td>Actualización de software</td>\n",
              "      <td>NaN</td>\n",
              "      <td>Cerrado</td>\n",
              "      <td>3</td>\n",
              "    </tr>\n",
              "    <tr>\n",
              "      <th>1</th>\n",
              "      <td>soporte técnico</td>\n",
              "      <td>NaN</td>\n",
              "      <td>problema de acceso</td>\n",
              "      <td>NaN</td>\n",
              "      <td>Pendiente</td>\n",
              "      <td>0</td>\n",
              "    </tr>\n",
              "    <tr>\n",
              "      <th>2</th>\n",
              "      <td>Recursos humanos</td>\n",
              "      <td>Administrador TI</td>\n",
              "      <td>Solicitud de equipo</td>\n",
              "      <td>2024-01-03</td>\n",
              "      <td>resuelto</td>\n",
              "      <td>2</td>\n",
              "    </tr>\n",
              "    <tr>\n",
              "      <th>3</th>\n",
              "      <td>Infraestructura</td>\n",
              "      <td>Juan Pérez</td>\n",
              "      <td>Problema de acceso</td>\n",
              "      <td>2024-01-04</td>\n",
              "      <td>EN PROCESO</td>\n",
              "      <td>0</td>\n",
              "    </tr>\n",
              "    <tr>\n",
              "      <th>4</th>\n",
              "      <td>S0p0rte técnic0</td>\n",
              "      <td>help desk</td>\n",
              "      <td>Actualización de software</td>\n",
              "      <td>2024-01-05</td>\n",
              "      <td>RESUELTO</td>\n",
              "      <td>5</td>\n",
              "    </tr>\n",
              "    <tr>\n",
              "      <th>5</th>\n",
              "      <td>Soporte técnico</td>\n",
              "      <td>juan pérez</td>\n",
              "      <td>Solicitud de equipo</td>\n",
              "      <td>2024/01/06</td>\n",
              "      <td>NaN</td>\n",
              "      <td>0</td>\n",
              "    </tr>\n",
              "    <tr>\n",
              "      <th>6</th>\n",
              "      <td>Infraestructura</td>\n",
              "      <td>Administrador TI</td>\n",
              "      <td>ERROR DE SISTEMA</td>\n",
              "      <td>2024-01-07</td>\n",
              "      <td>PENDIENTE</td>\n",
              "      <td>0</td>\n",
              "    </tr>\n",
              "    <tr>\n",
              "      <th>7</th>\n",
              "      <td>Recurs0s human0s</td>\n",
              "      <td>SOPORTE NIVEL 1</td>\n",
              "      <td>NaN</td>\n",
              "      <td>2024-01-08</td>\n",
              "      <td>RESUELTO</td>\n",
              "      <td>5</td>\n",
              "    </tr>\n",
              "    <tr>\n",
              "      <th>8</th>\n",
              "      <td>Soporte técnico</td>\n",
              "      <td>Help Desk</td>\n",
              "      <td>Error de sistema</td>\n",
              "      <td>2024-01-09</td>\n",
              "      <td>Pendiente</td>\n",
              "      <td>0</td>\n",
              "    </tr>\n",
              "    <tr>\n",
              "      <th>9</th>\n",
              "      <td>NaN</td>\n",
              "      <td>ADMINISTRADOR TI</td>\n",
              "      <td>Consulta general</td>\n",
              "      <td>2024-01-10</td>\n",
              "      <td>Pendiente</td>\n",
              "      <td>0</td>\n",
              "    </tr>\n",
              "  </tbody>\n",
              "</table>\n",
              "</div>\n",
              "    <div class=\"colab-df-buttons\">\n",
              "\n",
              "  <div class=\"colab-df-container\">\n",
              "    <button class=\"colab-df-convert\" onclick=\"convertToInteractive('df-18edbfc8-317a-4374-9714-b21db2de0b99')\"\n",
              "            title=\"Convert this dataframe to an interactive table.\"\n",
              "            style=\"display:none;\">\n",
              "\n",
              "  <svg xmlns=\"http://www.w3.org/2000/svg\" height=\"24px\" viewBox=\"0 -960 960 960\">\n",
              "    <path d=\"M120-120v-720h720v720H120Zm60-500h600v-160H180v160Zm220 220h160v-160H400v160Zm0 220h160v-160H400v160ZM180-400h160v-160H180v160Zm440 0h160v-160H620v160ZM180-180h160v-160H180v160Zm440 0h160v-160H620v160Z\"/>\n",
              "  </svg>\n",
              "    </button>\n",
              "\n",
              "  <style>\n",
              "    .colab-df-container {\n",
              "      display:flex;\n",
              "      gap: 12px;\n",
              "    }\n",
              "\n",
              "    .colab-df-convert {\n",
              "      background-color: #E8F0FE;\n",
              "      border: none;\n",
              "      border-radius: 50%;\n",
              "      cursor: pointer;\n",
              "      display: none;\n",
              "      fill: #1967D2;\n",
              "      height: 32px;\n",
              "      padding: 0 0 0 0;\n",
              "      width: 32px;\n",
              "    }\n",
              "\n",
              "    .colab-df-convert:hover {\n",
              "      background-color: #E2EBFA;\n",
              "      box-shadow: 0px 1px 2px rgba(60, 64, 67, 0.3), 0px 1px 3px 1px rgba(60, 64, 67, 0.15);\n",
              "      fill: #174EA6;\n",
              "    }\n",
              "\n",
              "    .colab-df-buttons div {\n",
              "      margin-bottom: 4px;\n",
              "    }\n",
              "\n",
              "    [theme=dark] .colab-df-convert {\n",
              "      background-color: #3B4455;\n",
              "      fill: #D2E3FC;\n",
              "    }\n",
              "\n",
              "    [theme=dark] .colab-df-convert:hover {\n",
              "      background-color: #434B5C;\n",
              "      box-shadow: 0px 1px 3px 1px rgba(0, 0, 0, 0.15);\n",
              "      filter: drop-shadow(0px 1px 2px rgba(0, 0, 0, 0.3));\n",
              "      fill: #FFFFFF;\n",
              "    }\n",
              "  </style>\n",
              "\n",
              "    <script>\n",
              "      const buttonEl =\n",
              "        document.querySelector('#df-18edbfc8-317a-4374-9714-b21db2de0b99 button.colab-df-convert');\n",
              "      buttonEl.style.display =\n",
              "        google.colab.kernel.accessAllowed ? 'block' : 'none';\n",
              "\n",
              "      async function convertToInteractive(key) {\n",
              "        const element = document.querySelector('#df-18edbfc8-317a-4374-9714-b21db2de0b99');\n",
              "        const dataTable =\n",
              "          await google.colab.kernel.invokeFunction('convertToInteractive',\n",
              "                                                    [key], {});\n",
              "        if (!dataTable) return;\n",
              "\n",
              "        const docLinkHtml = 'Like what you see? Visit the ' +\n",
              "          '<a target=\"_blank\" href=https://colab.research.google.com/notebooks/data_table.ipynb>data table notebook</a>'\n",
              "          + ' to learn more about interactive tables.';\n",
              "        element.innerHTML = '';\n",
              "        dataTable['output_type'] = 'display_data';\n",
              "        await google.colab.output.renderOutput(dataTable, element);\n",
              "        const docLink = document.createElement('div');\n",
              "        docLink.innerHTML = docLinkHtml;\n",
              "        element.appendChild(docLink);\n",
              "      }\n",
              "    </script>\n",
              "  </div>\n",
              "\n",
              "\n",
              "    <div id=\"df-793eb1bd-2108-4ddf-a0e1-1de154494a4a\">\n",
              "      <button class=\"colab-df-quickchart\" onclick=\"quickchart('df-793eb1bd-2108-4ddf-a0e1-1de154494a4a')\"\n",
              "                title=\"Suggest charts\"\n",
              "                style=\"display:none;\">\n",
              "\n",
              "<svg xmlns=\"http://www.w3.org/2000/svg\" height=\"24px\"viewBox=\"0 0 24 24\"\n",
              "     width=\"24px\">\n",
              "    <g>\n",
              "        <path d=\"M19 3H5c-1.1 0-2 .9-2 2v14c0 1.1.9 2 2 2h14c1.1 0 2-.9 2-2V5c0-1.1-.9-2-2-2zM9 17H7v-7h2v7zm4 0h-2V7h2v10zm4 0h-2v-4h2v4z\"/>\n",
              "    </g>\n",
              "</svg>\n",
              "      </button>\n",
              "\n",
              "<style>\n",
              "  .colab-df-quickchart {\n",
              "      --bg-color: #E8F0FE;\n",
              "      --fill-color: #1967D2;\n",
              "      --hover-bg-color: #E2EBFA;\n",
              "      --hover-fill-color: #174EA6;\n",
              "      --disabled-fill-color: #AAA;\n",
              "      --disabled-bg-color: #DDD;\n",
              "  }\n",
              "\n",
              "  [theme=dark] .colab-df-quickchart {\n",
              "      --bg-color: #3B4455;\n",
              "      --fill-color: #D2E3FC;\n",
              "      --hover-bg-color: #434B5C;\n",
              "      --hover-fill-color: #FFFFFF;\n",
              "      --disabled-bg-color: #3B4455;\n",
              "      --disabled-fill-color: #666;\n",
              "  }\n",
              "\n",
              "  .colab-df-quickchart {\n",
              "    background-color: var(--bg-color);\n",
              "    border: none;\n",
              "    border-radius: 50%;\n",
              "    cursor: pointer;\n",
              "    display: none;\n",
              "    fill: var(--fill-color);\n",
              "    height: 32px;\n",
              "    padding: 0;\n",
              "    width: 32px;\n",
              "  }\n",
              "\n",
              "  .colab-df-quickchart:hover {\n",
              "    background-color: var(--hover-bg-color);\n",
              "    box-shadow: 0 1px 2px rgba(60, 64, 67, 0.3), 0 1px 3px 1px rgba(60, 64, 67, 0.15);\n",
              "    fill: var(--button-hover-fill-color);\n",
              "  }\n",
              "\n",
              "  .colab-df-quickchart-complete:disabled,\n",
              "  .colab-df-quickchart-complete:disabled:hover {\n",
              "    background-color: var(--disabled-bg-color);\n",
              "    fill: var(--disabled-fill-color);\n",
              "    box-shadow: none;\n",
              "  }\n",
              "\n",
              "  .colab-df-spinner {\n",
              "    border: 2px solid var(--fill-color);\n",
              "    border-color: transparent;\n",
              "    border-bottom-color: var(--fill-color);\n",
              "    animation:\n",
              "      spin 1s steps(1) infinite;\n",
              "  }\n",
              "\n",
              "  @keyframes spin {\n",
              "    0% {\n",
              "      border-color: transparent;\n",
              "      border-bottom-color: var(--fill-color);\n",
              "      border-left-color: var(--fill-color);\n",
              "    }\n",
              "    20% {\n",
              "      border-color: transparent;\n",
              "      border-left-color: var(--fill-color);\n",
              "      border-top-color: var(--fill-color);\n",
              "    }\n",
              "    30% {\n",
              "      border-color: transparent;\n",
              "      border-left-color: var(--fill-color);\n",
              "      border-top-color: var(--fill-color);\n",
              "      border-right-color: var(--fill-color);\n",
              "    }\n",
              "    40% {\n",
              "      border-color: transparent;\n",
              "      border-right-color: var(--fill-color);\n",
              "      border-top-color: var(--fill-color);\n",
              "    }\n",
              "    60% {\n",
              "      border-color: transparent;\n",
              "      border-right-color: var(--fill-color);\n",
              "    }\n",
              "    80% {\n",
              "      border-color: transparent;\n",
              "      border-right-color: var(--fill-color);\n",
              "      border-bottom-color: var(--fill-color);\n",
              "    }\n",
              "    90% {\n",
              "      border-color: transparent;\n",
              "      border-bottom-color: var(--fill-color);\n",
              "    }\n",
              "  }\n",
              "</style>\n",
              "\n",
              "      <script>\n",
              "        async function quickchart(key) {\n",
              "          const quickchartButtonEl =\n",
              "            document.querySelector('#' + key + ' button');\n",
              "          quickchartButtonEl.disabled = true;  // To prevent multiple clicks.\n",
              "          quickchartButtonEl.classList.add('colab-df-spinner');\n",
              "          try {\n",
              "            const charts = await google.colab.kernel.invokeFunction(\n",
              "                'suggestCharts', [key], {});\n",
              "          } catch (error) {\n",
              "            console.error('Error during call to suggestCharts:', error);\n",
              "          }\n",
              "          quickchartButtonEl.classList.remove('colab-df-spinner');\n",
              "          quickchartButtonEl.classList.add('colab-df-quickchart-complete');\n",
              "        }\n",
              "        (() => {\n",
              "          let quickchartButtonEl =\n",
              "            document.querySelector('#df-793eb1bd-2108-4ddf-a0e1-1de154494a4a button');\n",
              "          quickchartButtonEl.style.display =\n",
              "            google.colab.kernel.accessAllowed ? 'block' : 'none';\n",
              "        })();\n",
              "      </script>\n",
              "    </div>\n",
              "\n",
              "    </div>\n",
              "  </div>\n"
            ],
            "application/vnd.google.colaboratory.intrinsic+json": {
              "type": "dataframe",
              "variable_name": "df",
              "summary": "{\n  \"name\": \"df\",\n  \"rows\": 400,\n  \"fields\": [\n    {\n      \"column\": \"Destino del reclamo\",\n      \"properties\": {\n        \"dtype\": \"category\",\n        \"num_unique_values\": 34,\n        \"samples\": [\n          \"recursos humanos\",\n          \"sistemas\",\n          \"  recursos humanos  \"\n        ],\n        \"semantic_type\": \"\",\n        \"description\": \"\"\n      }\n    },\n    {\n      \"column\": \"Qui\\u00e9n lo resolvi\\u00f3\",\n      \"properties\": {\n        \"dtype\": \"category\",\n        \"num_unique_values\": 36,\n        \"samples\": [\n          \"s0p0rte nivel 1\",\n          \"  S0p0rte Nivel 1  \",\n          \"  soporte nivel 1  \"\n        ],\n        \"semantic_type\": \"\",\n        \"description\": \"\"\n      }\n    },\n    {\n      \"column\": \"Tipo de reclamo\",\n      \"properties\": {\n        \"dtype\": \"category\",\n        \"num_unique_values\": 39,\n        \"samples\": [\n          \"  PROBLEMA DE ACCESO  \",\n          \"  solicitud de equipo  \",\n          \"  Actualizaci\\u00f3n de software  \"\n        ],\n        \"semantic_type\": \"\",\n        \"description\": \"\"\n      }\n    },\n    {\n      \"column\": \"Fecha del reclamo\",\n      \"properties\": {\n        \"dtype\": \"string\",\n        \"num_unique_values\": 380,\n        \"samples\": [\n          \"2024-10-07\",\n          \"2024-10-01\",\n          \"2024-10-06\"\n        ],\n        \"semantic_type\": \"\",\n        \"description\": \"\"\n      }\n    },\n    {\n      \"column\": \"Estado del reclamo\",\n      \"properties\": {\n        \"dtype\": \"category\",\n        \"num_unique_values\": 31,\n        \"samples\": [\n          \"  resuelto  \",\n          \"  pendiente  \",\n          \"  cerrado  \"\n        ],\n        \"semantic_type\": \"\",\n        \"description\": \"\"\n      }\n    },\n    {\n      \"column\": \"Grado de satisfacci\\u00f3n\",\n      \"properties\": {\n        \"dtype\": \"number\",\n        \"std\": 1,\n        \"min\": 0,\n        \"max\": 5,\n        \"num_unique_values\": 6,\n        \"samples\": [\n          3,\n          0,\n          4\n        ],\n        \"semantic_type\": \"\",\n        \"description\": \"\"\n      }\n    }\n  ]\n}"
            }
          },
          "metadata": {},
          "execution_count": 5
        }
      ]
    },
    {
      "cell_type": "code",
      "source": [
        "#Realizamos un pequeño filtrado de los valores igual a \"0\" porque esos valores son de trabajos no realizados o no terminados\n",
        "# y no son valores que realmente nos interese analizar\n",
        "satisfaccion_valida = df['Grado de satisfacción'][(df['Grado de satisfacción'] >= 1) & (df['Grado de satisfacción'] <= 5)]\n",
        "\n",
        "# Del total de datos, nos quedamos con los validos y su numeracion\n",
        "total = len(df['Grado de satisfacción'])\n",
        "validos = satisfaccion_valida.count()\n",
        "nulos = df['Grado de satisfacción'].isnull().sum()\n",
        "\n",
        "# Realizamos las medidas de estadicas\n",
        "media = satisfaccion_valida.mean()\n",
        "mediana = satisfaccion_valida.median()\n",
        "desviacion = satisfaccion_valida.std()\n",
        "\n",
        "# Aca visualizamos los valores\n",
        "print(\"Columna: Grado de satisfacción\")\n",
        "print(f\"- Valores válidos (1 a 5): {validos} / {total}\")\n",
        "print(f\"- Valores ausentes: {nulos}\")\n",
        "print(f\"- Media: {media}\")\n",
        "print(f\"- Mediana: {mediana}\")\n",
        "print(f\"- Desviación estándar: {desviacion}\")"
      ],
      "metadata": {
        "colab": {
          "base_uri": "https://localhost:8080/"
        },
        "id": "FTUaPJQwkQAf",
        "outputId": "935f0b06-91e2-4628-8037-1250f8a4482c"
      },
      "execution_count": null,
      "outputs": [
        {
          "output_type": "stream",
          "name": "stdout",
          "text": [
            "Columna: Grado de satisfacción\n",
            "- Valores válidos (1 a 5): 173 / 400\n",
            "- Valores ausentes: 0\n",
            "- Media: 3.005780346820809\n",
            "- Mediana: 3.0\n",
            "- Desviación estándar: 1.5192451837067515\n"
          ]
        }
      ]
    },
    {
      "cell_type": "code",
      "source": [
        "def analizar_columna(col):\n",
        "    print(\"Columna:\", col)\n",
        "    print(\"Categorías únicas:\", df[col].nunique(dropna=False))\n",
        "    print(\"Cantidad por categoría:\")\n",
        "    print(df[col].value_counts(dropna=False))\n",
        "    print(\"Cantidad de nulos:\", df[col].isnull().sum())\n",
        "    print(\"-\" * 40)\n",
        "\n",
        "analizar_columna(\"Destino del reclamo\")\n",
        "analizar_columna(\"Quién lo resolvió\")\n",
        "analizar_columna(\"Tipo de reclamo\")\n",
        "analizar_columna(\"Estado del reclamo\")"
      ],
      "metadata": {
        "id": "eF5qFwyqxW9g",
        "outputId": "57cd5057-cc23-40a1-ae2c-04ace9d9a945",
        "colab": {
          "base_uri": "https://localhost:8080/"
        }
      },
      "execution_count": null,
      "outputs": [
        {
          "output_type": "stream",
          "name": "stdout",
          "text": [
            "Columna: Destino del reclamo\n",
            "Categorías únicas: 35\n",
            "Cantidad por categoría:\n",
            "Destino del reclamo\n",
            "Sistemas                31\n",
            "Recursos humanos        29\n",
            "Soporte técnico         28\n",
            "RECURSOS HUMANOS        27\n",
            "Infraestructura         27\n",
            "SOPORTE TÉCNICO         25\n",
            "SISTEMAS                22\n",
            "Finanzas                21\n",
            "NaN                     20\n",
            "INFRAESTRUCTURA         15\n",
            "soporte técnico         13\n",
            "sistemas                13\n",
            "  Finanzas              12\n",
            "finanzas                12\n",
            "  Soporte técnico       12\n",
            "infraestructura         11\n",
            "FINANZAS                10\n",
            "  Sistemas               9\n",
            "recursos humanos         9\n",
            "  Recursos humanos       8\n",
            "  Infraestructura        7\n",
            "  INFRAESTRUCTURA        5\n",
            "  soporte técnico        4\n",
            "  finanzas               4\n",
            "  RECURSOS HUMANOS       4\n",
            "S0p0rte técnic0          4\n",
            "Recurs0s human0s         3\n",
            "s0p0rte técnic0          3\n",
            "  SOPORTE TÉCNICO        3\n",
            "  infraestructura        2\n",
            "  recursos humanos       2\n",
            "  SISTEMAS               2\n",
            "  s0p0rte técnic0        1\n",
            "  S0p0rte técnic0        1\n",
            "  sistemas               1\n",
            "Name: count, dtype: int64\n",
            "Cantidad de nulos: 20\n",
            "----------------------------------------\n",
            "Columna: Quién lo resolvió\n",
            "Categorías únicas: 37\n",
            "Cantidad por categoría:\n",
            "Quién lo resolvió\n",
            "Help Desk               36\n",
            "Juan Pérez              34\n",
            "JUAN PÉREZ              27\n",
            "Administrador TI        27\n",
            "Soporte Nivel 1         26\n",
            "María López             24\n",
            "NaN                     20\n",
            "HELP DESK               17\n",
            "MARÍA LÓPEZ             15\n",
            "soporte nivel 1         14\n",
            "SOPORTE NIVEL 1         14\n",
            "  Juan Pérez            12\n",
            "help desk               12\n",
            "juan pérez              12\n",
            "ADMINISTRADOR TI        12\n",
            "maría lópez             12\n",
            "administrador ti        11\n",
            "  Soporte Nivel 1       11\n",
            "  Help Desk              8\n",
            "  MARÍA LÓPEZ            7\n",
            "  María López            6\n",
            "  help desk              6\n",
            "  ADMINISTRADOR TI       5\n",
            "  Administrador TI       5\n",
            "  soporte nivel 1        4\n",
            "  SOPORTE NIVEL 1        4\n",
            "S0p0rte Nivel 1          4\n",
            "  maría lópez            3\n",
            "  administrador ti       3\n",
            "  HELP DESK              2\n",
            "  S0p0rte Nivel 1        1\n",
            "Administrad0r TI         1\n",
            "  Administrad0r TI       1\n",
            "administrad0r ti         1\n",
            "  administrad0r ti       1\n",
            "  juan pérez             1\n",
            "s0p0rte nivel 1          1\n",
            "Name: count, dtype: int64\n",
            "Cantidad de nulos: 20\n",
            "----------------------------------------\n",
            "Columna: Tipo de reclamo\n",
            "Categorías únicas: 40\n",
            "Cantidad por categoría:\n",
            "Tipo de reclamo\n",
            "Consulta general                 32\n",
            "Actualización de software        28\n",
            "Error de sistema                 25\n",
            "SOLICITUD DE EQUIPO              24\n",
            "CONSULTA GENERAL                 21\n",
            "Problema de acceso               21\n",
            "PROBLEMA DE ACCESO               21\n",
            "NaN                              20\n",
            "Solicitud de equipo              20\n",
            "ERROR DE SISTEMA                 18\n",
            "ACTUALIZACIÓN DE SOFTWARE        17\n",
            "problema de acceso               16\n",
            "actualización de software        12\n",
            "consulta general                 11\n",
            "  Problema de acceso             11\n",
            "error de sistema                 11\n",
            "  Consulta general                9\n",
            "solicitud de equipo               9\n",
            "  Solicitud de equipo             8\n",
            "  Actualización de software       8\n",
            "  ERROR DE SISTEMA                6\n",
            "  error de sistema                6\n",
            "Err0r de sistema                  6\n",
            "  SOLICITUD DE EQUIPO             5\n",
            "  Error de sistema                5\n",
            "  consulta general                4\n",
            "  PROBLEMA DE ACCESO              4\n",
            "  problema de acceso              3\n",
            "  ACTUALIZACIÓN DE SOFTWARE       3\n",
            "  CONSULTA GENERAL                3\n",
            "C0nsulta general                  3\n",
            "Actualización de s0ftware         2\n",
            "s0licitud de equip0               1\n",
            "  actualización de software       1\n",
            "Pr0blema de acces0                1\n",
            "  S0licitud de equip0             1\n",
            "  err0r de sistema                1\n",
            "  solicitud de equipo             1\n",
            "  C0nsulta general                1\n",
            "  actualización de s0ftware       1\n",
            "Name: count, dtype: int64\n",
            "Cantidad de nulos: 20\n",
            "----------------------------------------\n",
            "Columna: Estado del reclamo\n",
            "Categorías únicas: 32\n",
            "Cantidad por categoría:\n",
            "Estado del reclamo\n",
            "Pendiente         45\n",
            "Cerrado           38\n",
            "En proceso        35\n",
            "Resuelto          28\n",
            "EN PROCESO        27\n",
            "PENDIENTE         23\n",
            "RESUELTO          21\n",
            "NaN               20\n",
            "CERRADO           20\n",
            "resuelto          17\n",
            "  PENDIENTE       13\n",
            "  Cerrado         12\n",
            "  RESUELTO        12\n",
            "pendiente         12\n",
            "cerrado           11\n",
            "en proceso        10\n",
            "  En proceso       7\n",
            "En pr0ces0         6\n",
            "  CERRADO          5\n",
            "  Resuelto         5\n",
            "Resuelt0           5\n",
            "  Pendiente        5\n",
            "  pendiente        4\n",
            "  EN PROCESO       3\n",
            "en pr0ces0         3\n",
            "Cerrad0            3\n",
            "  cerrado          3\n",
            "  En pr0ces0       3\n",
            "  resuelto         1\n",
            "  cerrad0          1\n",
            "  en proceso       1\n",
            "  Cerrad0          1\n",
            "Name: count, dtype: int64\n",
            "Cantidad de nulos: 20\n",
            "----------------------------------------\n"
          ]
        }
      ]
    },
    {
      "cell_type": "markdown",
      "source": [
        " En la variable fecha se analiza cantidad de registros válidos sobre el total, ausentes y mal registrados.\n"
      ],
      "metadata": {
        "id": "_UA2v5PtneR9"
      }
    },
    {
      "cell_type": "code",
      "source": [
        "fecha_valida= df['Fecha del reclamo']\n",
        "validos_f=fecha_valida.count()\n",
        "nulos_f=df['Fecha del reclamo'].isnull().sum()\n",
        "total_f=len(df [\"Fecha del reclamo\"])\n",
        "fecha_convertida = pd.to_datetime(df['Fecha del reclamo'], errors='coerce')\n",
        "mal_registradas = fecha_convertida.isnull().sum() - nulos_f\n",
        "proporcion = (validos_f/total_f) * 100\n",
        "\n",
        "# Visualizamos los valores\n",
        "print(\"Columna: Fecha de Reclamo\")\n",
        "print(f\"- Valores de fecha válidos : {validos_f} / {total_f} = {proporcion}%\")\n",
        "print(f\"- Valores de fecha ausentes: {nulos_f}\")\n",
        "print(f\"- Valores de fecha Mal Registrados:  {mal_registradas}\")"
      ],
      "metadata": {
        "colab": {
          "base_uri": "https://localhost:8080/"
        },
        "id": "Dnj0CjIKncqW",
        "outputId": "ade93a74-4e49-4e85-ab2c-8bcbda0af4cc"
      },
      "execution_count": null,
      "outputs": [
        {
          "output_type": "stream",
          "name": "stdout",
          "text": [
            "Columna: Fecha de Reclamo\n",
            "- Valores de fecha válidos : 380 / 400 = 95.0%\n",
            "- Valores de fecha ausentes: 20\n",
            "- Valores de fecha Mal Registrados:  92\n"
          ]
        }
      ]
    },
    {
      "cell_type": "markdown",
      "source": [
        "Conclusiones iniciales\n",
        "\n",
        "- Se identificaron errores de tipeo y formatos inconsistentes en varias columnas.\n",
        "- Hay registros con fechas mal formateadas que deberán corregirse.\n",
        "- Existen valores faltantes y categorías mal escritas (mayúsculas/minúsculas mezcladas).\n",
        "\n",
        "Estas observaciones orientarán el proceso de limpieza que se realizará en próximas etapas."
      ],
      "metadata": {
        "id": "gmUC4H7-tcsJ"
      }
    },
    {
      "cell_type": "markdown",
      "source": [
        "# **EVIDENCIA N 3**"
      ],
      "metadata": {
        "id": "AmXXopn0vpg1"
      }
    },
    {
      "cell_type": "markdown",
      "source": [
        "En esta evidencia se agrega la columna Dias de resolucion, que contiene una variable cuantitativa, y representa los dias que demoro el reclamo en resolverse desde su generacion hasta llegar al estado cerrado.\n",
        "Para esta tarea, se utiliza la libreria Pandas y Numpy, solicitando la creacion de datos ramdom en un rango de 7 dias. Luego se ralizara la limpieza de los datos que no correspondan."
      ],
      "metadata": {
        "id": "e6yx0ax-v3Sh"
      }
    },
    {
      "cell_type": "code",
      "source": [
        "import pandas as pd\n",
        "import numpy as np\n",
        "\n",
        "# Se carga el archivo CSV existente en un DataFrame\n",
        "url = \"https://raw.githubusercontent.com/vickpicco/analistaDeDatos/refs/heads/main/Datos/dataset_reclamos_internos_modificado.csv\"\n",
        "df = pd.read_csv(url)\n",
        "\n",
        "# Se crea los datos para la nueva columna\n",
        "# Asegúrate de que el número de valores aleatorios coincida con el número de filas en tu DataFrame\n",
        "num_filas = len(df)\n",
        "dias_de_resolucion = np.random.randint(1, 8, size=num_filas) # Genera tantos números como filas\n",
        "\n",
        "#  Se agrega esta nueva columna al DataFrame existente\n",
        "df['Dias de resolucion'] = dias_de_resolucion\n",
        "\n",
        "#  Se guarda el DataFrame modificado en el mismo archivo CSV\n",
        "df.to_csv('dataset_reclamos_internos_modificado.csv', index=False)\n",
        "\n",
        "#  Se muestra las primeras filas para verificar\n",
        "print(df.head())"
      ],
      "metadata": {
        "id": "vB96lYe8y4zB",
        "colab": {
          "base_uri": "https://localhost:8080/"
        },
        "outputId": "1f86edfb-8d8d-4d8b-d84a-3d363119927c"
      },
      "execution_count": null,
      "outputs": [
        {
          "output_type": "stream",
          "name": "stdout",
          "text": [
            "  Destino del reclamo Quién lo resolvió                Tipo de reclamo  \\\n",
            "0     INFRAESTRUCTURA               NaN      Actualización de software   \n",
            "1     soporte técnico               NaN           problema de acceso     \n",
            "2    Recursos humanos  Administrador TI          Solicitud de equipo     \n",
            "3     Infraestructura      Juan Pérez               Problema de acceso   \n",
            "4     S0p0rte técnic0         help desk    Actualización de software     \n",
            "\n",
            "  Fecha del reclamo Estado del reclamo  Grado de satisfacción  \\\n",
            "0               NaN          Cerrado                        3   \n",
            "1               NaN          Pendiente                      0   \n",
            "2        2024-01-03           resuelto                      2   \n",
            "3        2024-01-04         EN PROCESO                      0   \n",
            "4        2024-01-05           RESUELTO                      5   \n",
            "\n",
            "   Dias de resolucion  \n",
            "0                   6  \n",
            "1                   3  \n",
            "2                   6  \n",
            "3                   1  \n",
            "4                   2  \n"
          ]
        }
      ]
    },
    {
      "cell_type": "code",
      "source": [],
      "metadata": {
        "id": "WCyedvGMyXR6"
      },
      "execution_count": null,
      "outputs": []
    },
    {
      "cell_type": "markdown",
      "source": [
        "**DATOS CON FOMATO INCORRECTO**\n",
        "\n",
        "En el sprint anterior, se pudo observar que las columnas 'Destino del reclamo', 'Quién lo resolvió', 'Tipo de reclamo', 'Fecha del reclamo' y 'Estado del reclamo' contienen datos con formatos incorrectos o inconsistentes. Por lo tanto, se propone a continuación realizar un filtrado de todos los valores posibles en cada una de estas columnas para identificar las variaciones existentes. Posteriormente, se procederá a unificar los valores que, a pesar de sus diferencias de formato o tipeo, representan la misma categoría. Para ello se reutilizara una función creada en la evidencia anterior  'analizar-columna' en cada columna."
      ],
      "metadata": {
        "id": "-Md-7ymyHWb6"
      }
    },
    {
      "cell_type": "markdown",
      "source": [
        "# Columna : 'Destino de reclamo'"
      ],
      "metadata": {
        "id": "_UMShAcPYnoB"
      }
    },
    {
      "cell_type": "code",
      "source": [
        "#Filtrado de valores posibles de columna destino del reclamo que son todas las areas que se resgistran que han recibido reclamos.\n",
        "def analizar_columna(col):\n",
        "    print(\"Columna:\", col)\n",
        "    print(\"Categorías únicas:\", df[col].nunique(dropna=False))\n",
        "    print(\"Cantidad por categoría:\")\n",
        "    print(df[col].value_counts(dropna=False))\n",
        "\n",
        "\n",
        "analizar_columna(\"Destino del reclamo\")"
      ],
      "metadata": {
        "id": "aJeTbCz1JiNT",
        "outputId": "76fd56ee-c75b-4a74-bc8e-70450e7a3e4d",
        "colab": {
          "base_uri": "https://localhost:8080/"
        }
      },
      "execution_count": null,
      "outputs": [
        {
          "output_type": "stream",
          "name": "stdout",
          "text": [
            "Columna: Destino del reclamo\n",
            "Categorías únicas: 35\n",
            "Cantidad por categoría:\n",
            "Destino del reclamo\n",
            "Sistemas                31\n",
            "Recursos humanos        29\n",
            "Soporte técnico         28\n",
            "RECURSOS HUMANOS        27\n",
            "Infraestructura         27\n",
            "SOPORTE TÉCNICO         25\n",
            "SISTEMAS                22\n",
            "Finanzas                21\n",
            "NaN                     20\n",
            "INFRAESTRUCTURA         15\n",
            "soporte técnico         13\n",
            "sistemas                13\n",
            "  Finanzas              12\n",
            "finanzas                12\n",
            "  Soporte técnico       12\n",
            "infraestructura         11\n",
            "FINANZAS                10\n",
            "  Sistemas               9\n",
            "recursos humanos         9\n",
            "  Recursos humanos       8\n",
            "  Infraestructura        7\n",
            "  INFRAESTRUCTURA        5\n",
            "  soporte técnico        4\n",
            "  finanzas               4\n",
            "  RECURSOS HUMANOS       4\n",
            "S0p0rte técnic0          4\n",
            "Recurs0s human0s         3\n",
            "s0p0rte técnic0          3\n",
            "  SOPORTE TÉCNICO        3\n",
            "  infraestructura        2\n",
            "  recursos humanos       2\n",
            "  SISTEMAS               2\n",
            "  s0p0rte técnic0        1\n",
            "  S0p0rte técnic0        1\n",
            "  sistemas               1\n",
            "Name: count, dtype: int64\n"
          ]
        }
      ]
    },
    {
      "cell_type": "markdown",
      "source": [
        "Se observan que en esta columna hay 35 categorias, pero muchas estan repetidas. Se propone 1)Pasar todos los datos a mayuscula.\n",
        "2) eliminar espacios."
      ],
      "metadata": {
        "id": "oQn_PmujO4i0"
      }
    },
    {
      "cell_type": "code",
      "source": [
        "#Se utiliza str.upper para pasar a mayusculas y str.strip para pasar eliminar espacios\n",
        "print('Se pasan todos los datos a mayuscula y se quitan espacios')\n",
        "df['Destino del reclamo'] = df['Destino del reclamo'].str.upper().str.strip()\n",
        "#Se ejecuta nuevamente la funcion para verificar las categorias\n",
        "analizar_columna(\"Destino del reclamo\")\n",
        "\n",
        "print('***************************************************')\n",
        "\n",
        "#Al observan que hay ceros en vez de la 'o', se reemplazan con str.replace\n",
        "print('Se reemplzan todos los ceros por letras O')\n",
        "df['Destino del reclamo'] = df['Destino del reclamo'].str.replace('0', 'O')\n",
        "#Se ejecuta nuevamente la funcion para verificar las categorias\n",
        "analizar_columna(\"Destino del reclamo\")\n",
        "\n"
      ],
      "metadata": {
        "id": "V0tbu7suSsff",
        "outputId": "54876b3e-e49d-445c-99a6-ceee0dc4ab1f",
        "colab": {
          "base_uri": "https://localhost:8080/"
        }
      },
      "execution_count": null,
      "outputs": [
        {
          "output_type": "stream",
          "name": "stdout",
          "text": [
            "Se pasan todos los datos a mayuscula y se quitan espacios\n",
            "Columna: Destino del reclamo\n",
            "Categorías únicas: 6\n",
            "Cantidad por categoría:\n",
            "Destino del reclamo\n",
            "SOPORTE TÉCNICO     94\n",
            "RECURSOS HUMANOS    82\n",
            "SISTEMAS            78\n",
            "INFRAESTRUCTURA     67\n",
            "FINANZAS            59\n",
            "NaN                 20\n",
            "Name: count, dtype: int64\n",
            "***************************************************\n",
            "Se reemplzan todos los ceros por letras O\n",
            "Columna: Destino del reclamo\n",
            "Categorías únicas: 6\n",
            "Cantidad por categoría:\n",
            "Destino del reclamo\n",
            "SOPORTE TÉCNICO     94\n",
            "RECURSOS HUMANOS    82\n",
            "SISTEMAS            78\n",
            "INFRAESTRUCTURA     67\n",
            "FINANZAS            59\n",
            "NaN                 20\n",
            "Name: count, dtype: int64\n"
          ]
        }
      ]
    },
    {
      "cell_type": "markdown",
      "source": [
        "#Resultado: Destino del reclamo\n",
        "\n",
        "*Se obtienen 5 categorias  y se observan que hay datos ausentes, que se limpiaran en la proxima seccion.*"
      ],
      "metadata": {
        "id": "_ozJZ6qAVyZC"
      }
    },
    {
      "cell_type": "markdown",
      "source": [
        "# Columna : 'Quién lo resolvió'"
      ],
      "metadata": {
        "id": "k1UagKKLZ2Li"
      }
    },
    {
      "cell_type": "code",
      "source": [
        "#Filtrado de valores posibles de columna Quien lo resolvio que son todas las areas que se resgistran que han recibido reclamos.\n",
        "def analizar_columna(col):\n",
        "    print(\"Columna:\", col)\n",
        "    print(\"Categorías únicas:\", df[col].nunique(dropna=False))\n",
        "    print(\"Cantidad por categoría:\")\n",
        "    print(df[col].value_counts(dropna=False))\n",
        "\n",
        "\n",
        "analizar_columna(\"Quién lo resolvió\")"
      ],
      "metadata": {
        "id": "IOdjWxskaR_H",
        "outputId": "76d3aa0f-097f-40a0-a996-3f356d04933e",
        "colab": {
          "base_uri": "https://localhost:8080/"
        }
      },
      "execution_count": 14,
      "outputs": [
        {
          "output_type": "stream",
          "name": "stdout",
          "text": [
            "Columna: Quién lo resolvió\n",
            "Categorías únicas: 37\n",
            "Cantidad por categoría:\n",
            "Quién lo resolvió\n",
            "Help Desk               36\n",
            "Juan Pérez              34\n",
            "JUAN PÉREZ              27\n",
            "Administrador TI        27\n",
            "Soporte Nivel 1         26\n",
            "María López             24\n",
            "NaN                     20\n",
            "HELP DESK               17\n",
            "MARÍA LÓPEZ             15\n",
            "soporte nivel 1         14\n",
            "SOPORTE NIVEL 1         14\n",
            "  Juan Pérez            12\n",
            "help desk               12\n",
            "juan pérez              12\n",
            "ADMINISTRADOR TI        12\n",
            "maría lópez             12\n",
            "administrador ti        11\n",
            "  Soporte Nivel 1       11\n",
            "  Help Desk              8\n",
            "  MARÍA LÓPEZ            7\n",
            "  María López            6\n",
            "  help desk              6\n",
            "  ADMINISTRADOR TI       5\n",
            "  Administrador TI       5\n",
            "  soporte nivel 1        4\n",
            "  SOPORTE NIVEL 1        4\n",
            "S0p0rte Nivel 1          4\n",
            "  maría lópez            3\n",
            "  administrador ti       3\n",
            "  HELP DESK              2\n",
            "  S0p0rte Nivel 1        1\n",
            "Administrad0r TI         1\n",
            "  Administrad0r TI       1\n",
            "administrad0r ti         1\n",
            "  administrad0r ti       1\n",
            "  juan pérez             1\n",
            "s0p0rte nivel 1          1\n",
            "Name: count, dtype: int64\n"
          ]
        }
      ]
    },
    {
      "cell_type": "code",
      "source": [
        "#Se utiliza str.upper para pasar a mayusculas y str.strip para pasar eliminar espacios\n",
        "print('Se pasan todos los datos a mayuscula y se quitan espacios')\n",
        "df['Quién lo resolvió'] = df['Quién lo resolvió'].str.upper().str.strip()\n",
        "\n",
        "#Se ejecuta nuevamente la funcion para verificar las categorias\n",
        "analizar_columna(\"Quién lo resolvió\")\n",
        "\n",
        "print('***************************************************')\n",
        "\n",
        "#Al observan que hay ceros en vez de la 'o', se reemplazan con str.replace\n",
        "print('Se reemplzan todos los ceros por letras O')\n",
        "df['Quién lo resolvió'] = df['Quién lo resolvió'].str.replace('0', 'O')\n",
        "#Se ejecuta nuevamente la funcion para verificar las categorias\n",
        "analizar_columna(\"Quién lo resolvió\")"
      ],
      "metadata": {
        "id": "WxEkcYlkbl_H",
        "outputId": "2c5363a4-33ab-492a-c6ac-f367797201b1",
        "colab": {
          "base_uri": "https://localhost:8080/"
        }
      },
      "execution_count": 20,
      "outputs": [
        {
          "output_type": "stream",
          "name": "stdout",
          "text": [
            "Se pasan todos los datos a mayuscula y se quitan espacios\n",
            "Columna: Quién lo resolvió\n",
            "Categorías únicas: 8\n",
            "Cantidad por categoría:\n",
            "Quién lo resolvió\n",
            "JUAN PÉREZ          86\n",
            "HELP DESK           81\n",
            "SOPORTE NIVEL 1     73\n",
            "MARÍA LÓPEZ         67\n",
            "ADMINISTRADOR TI    63\n",
            "NaN                 20\n",
            "S0P0RTE NIVEL 1      6\n",
            "ADMINISTRAD0R TI     4\n",
            "Name: count, dtype: int64\n",
            "***************************************************\n",
            "Se reemplzan todos los ceros por letras O\n",
            "Columna: Quién lo resolvió\n",
            "Categorías únicas: 6\n",
            "Cantidad por categoría:\n",
            "Quién lo resolvió\n",
            "JUAN PÉREZ          86\n",
            "HELP DESK           81\n",
            "SOPORTE NIVEL 1     79\n",
            "ADMINISTRADOR TI    67\n",
            "MARÍA LÓPEZ         67\n",
            "NaN                 20\n",
            "Name: count, dtype: int64\n"
          ]
        }
      ]
    },
    {
      "cell_type": "markdown",
      "source": [
        "#Resultado: Columna: Quién lo resolvió\n",
        "\n",
        "*Se obtienen 5 categorias  y se observan que hay datos ausentes, que se limpiaran en la proxima seccion.*"
      ],
      "metadata": {
        "id": "msav5V-Udq3_"
      }
    },
    {
      "cell_type": "markdown",
      "source": [
        "***DATOS AUSENTES***\n",
        "\n",
        "Para visualizar y tener conocimiento de los datos ausentes, se utilizará el método isnull de Pandas. Como no podremos visualizar la totalidad de datos, sumaremos los valores True de cada columna para tener referencia de la cantidad de datos nulos obtenidos en cada columna, y así evaluar cómo proseguir."
      ],
      "metadata": {
        "id": "xlzcvGwHFa2d"
      }
    },
    {
      "cell_type": "code",
      "source": [
        "#Vamos a visualizar los datos nullos o ausentes\n",
        "#False=no nulo y True= nulo\n",
        "nulos_df = df.isnull()\n",
        "print(nulos_df)"
      ],
      "metadata": {
        "id": "Wy2gf1Yswpa8",
        "outputId": "26d5d84e-9c90-499b-8d0c-23c1e3d929f1",
        "colab": {
          "base_uri": "https://localhost:8080/"
        }
      },
      "execution_count": null,
      "outputs": [
        {
          "output_type": "stream",
          "name": "stdout",
          "text": [
            "     Destino del reclamo  Quién lo resolvió  Tipo de reclamo  \\\n",
            "0                  False               True            False   \n",
            "1                  False               True            False   \n",
            "2                  False              False            False   \n",
            "3                  False              False            False   \n",
            "4                  False              False            False   \n",
            "..                   ...                ...              ...   \n",
            "395                False              False            False   \n",
            "396                False              False            False   \n",
            "397                False              False            False   \n",
            "398                 True              False            False   \n",
            "399                False              False            False   \n",
            "\n",
            "     Fecha del reclamo  Estado del reclamo  Grado de satisfacción  \\\n",
            "0                 True               False                  False   \n",
            "1                 True               False                  False   \n",
            "2                False               False                  False   \n",
            "3                False               False                  False   \n",
            "4                False               False                  False   \n",
            "..                 ...                 ...                    ...   \n",
            "395              False               False                  False   \n",
            "396              False               False                  False   \n",
            "397              False               False                  False   \n",
            "398              False               False                  False   \n",
            "399              False               False                  False   \n",
            "\n",
            "     Dias de resolucion  \n",
            "0                 False  \n",
            "1                 False  \n",
            "2                 False  \n",
            "3                 False  \n",
            "4                 False  \n",
            "..                  ...  \n",
            "395               False  \n",
            "396               False  \n",
            "397               False  \n",
            "398               False  \n",
            "399               False  \n",
            "\n",
            "[400 rows x 7 columns]\n"
          ]
        }
      ]
    },
    {
      "cell_type": "code",
      "source": [
        "#Sumamos la cantidad de valores nulos por cada columna del dataframe\n",
        "nulos_por_columna = nulos_df.sum()\n",
        "print(\"\\nCantidad de valores nulos por columna:\")\n",
        "print(nulos_por_columna)"
      ],
      "metadata": {
        "id": "0WPoKMUGFoC1",
        "outputId": "aaccc40c-33e5-47f2-ebbf-d0ffddf87fc4",
        "colab": {
          "base_uri": "https://localhost:8080/"
        }
      },
      "execution_count": null,
      "outputs": [
        {
          "output_type": "stream",
          "name": "stdout",
          "text": [
            "\n",
            "Cantidad de valores nulos por columna:\n",
            "Destino del reclamo      20\n",
            "Quién lo resolvió        20\n",
            "Tipo de reclamo          20\n",
            "Fecha del reclamo        20\n",
            "Estado del reclamo       20\n",
            "Grado de satisfacción     0\n",
            "Dias de resolucion        0\n",
            "dtype: int64\n"
          ]
        }
      ]
    },
    {
      "cell_type": "markdown",
      "source": [
        "Como se puede observar, las columnas destino de reclamo tiene 20 datos nulos, quien lo resolvió tiene 20 datos nulos, tipo de reclamo tiene 20 datos nulos y fecha de reclamo tiene 20 datos nulos y estado del reclamo tambien tiene 20 datos nulos, en tanto las columnas grado de sastifacción y dias de resolución no poseen valores nulos"
      ],
      "metadata": {
        "id": "CronNAmSFr86"
      }
    }
  ]
}